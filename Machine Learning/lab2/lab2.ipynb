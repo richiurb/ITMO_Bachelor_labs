{
  "nbformat": 4,
  "nbformat_minor": 0,
  "metadata": {
    "hide_input": false,
    "kernelspec": {
      "display_name": "Python 3",
      "language": "python",
      "name": "python3"
    },
    "language_info": {
      "codemirror_mode": {
        "name": "ipython",
        "version": 3
      },
      "file_extension": ".py",
      "mimetype": "text/x-python",
      "name": "python",
      "nbconvert_exporter": "python",
      "pygments_lexer": "ipython3",
      "version": "3.7.1"
    },
    "toc": {
      "base_numbering": 1,
      "nav_menu": {},
      "number_sections": true,
      "sideBar": true,
      "skip_h1_title": false,
      "title_cell": "Table of Contents",
      "title_sidebar": "Contents",
      "toc_cell": true,
      "toc_position": {},
      "toc_section_display": true,
      "toc_window_display": false
    },
    "varInspector": {
      "cols": {
        "lenName": 16,
        "lenType": 16,
        "lenVar": 40
      },
      "kernels_config": {
        "python": {
          "delete_cmd_postfix": "",
          "delete_cmd_prefix": "del ",
          "library": "var_list.py",
          "varRefreshCmd": "print(var_dic_list())"
        },
        "r": {
          "delete_cmd_postfix": ") ",
          "delete_cmd_prefix": "rm(",
          "library": "var_list.r",
          "varRefreshCmd": "cat(var_dic_list()) "
        }
      },
      "types_to_exclude": [
        "module",
        "function",
        "builtin_function_or_method",
        "instance",
        "_Feature"
      ],
      "window_display": false
    },
    "colab": {
      "name": "M33021_Urbanovich_Rikhard_Arnisovich_lab2",
      "provenance": [],
      "collapsed_sections": []
    }
  },
  "cells": [
    {
      "cell_type": "code",
      "metadata": {
        "ExecuteTime": {
          "end_time": "2020-04-23T10:16:05.965275Z",
          "start_time": "2020-04-23T10:16:05.312704Z"
        },
        "id": "bZ7J0si68JdT"
      },
      "source": [
        "import pandas as pd\n",
        "import numpy as np"
      ],
      "execution_count": null,
      "outputs": []
    },
    {
      "cell_type": "markdown",
      "metadata": {
        "id": "xjvL0IIG8Jd0"
      },
      "source": [
        "## Задание 0\n"
      ]
    },
    {
      "cell_type": "markdown",
      "metadata": {
        "id": "yaSxXHvxO0qo"
      },
      "source": [
        "Для всех  заданий будем использовать обезличенные транзакционные банковские данные. Для этого считайте в переменные **tr_mcc_codes, tr_types, transactions и gender_train** из одноимённых таблиц из папки [data](https://drive.google.com/drive/folders/1YAMe7MiTxA-RSSd8Ex2p-L0Dspe6Gs4L). \n",
        "\n",
        "Для таблицы transactions используйте только первые n=1000000 строк. При чтении файлов обратите внимание на разделители внутри каждого из файлов - они могут различаться!"
      ]
    },
    {
      "cell_type": "markdown",
      "metadata": {
        "id": "oP3lX9xC8Jd8"
      },
      "source": [
        "###  Описание данных\n",
        "#### Таблица ```transactions.csv```\n",
        "##### Описание\n",
        "Таблица содержит историю транзакций клиентов банка за один год и три месяца.\n",
        "\n",
        "##### Формат данных\n",
        "\n",
        "```\n",
        "customer_id,tr_datetime,mcc_code,tr_type,amount,term_id\n",
        "111111,15 01:40:52,1111,1000,-5224,111111\n",
        "111112,15 15:18:32,3333,2000,-100,11122233\n",
        "...\n",
        "```\n",
        "##### Описание полей\n",
        "\n",
        " - ```customer_id``` — идентификатор клиента;\n",
        " - ```tr_datetime``` — день и время совершения транзакции (дни нумеруются с начала данных);\n",
        " - ```mcc_code``` — mcc-код транзакции;\n",
        " - ```tr_type``` — тип транзакции;\n",
        " - ```amount``` — сумма транзакции в условных единицах со знаком; ```+``` — начисление средств клиенту (приходная транзакция), ```-``` — списание средств (расходная транзакция);\n",
        " - ```term_id``` — идентификатор терминала;\n",
        "\n",
        "\n",
        "#### Таблица ```gender_train.csv```\n",
        "\n",
        "##### Описание\n",
        "Данная таблица содержит информацию по полу для части клиентов, для которых он известен. Для остальных клиентов пол неизвестен.\n",
        "\n",
        "##### Формат данных\n",
        "```\n",
        "customer_id,gender\n",
        "111111,0\n",
        "111112,1\n",
        "...\n",
        "```\n",
        "\n",
        "##### Описание полей\n",
        " - ```customer_id``` — идентификатор клиента;\n",
        " - ```gender``` — пол клиента;\n",
        "\n",
        "### Таблица ```tr_mcc_codes.csv```\n",
        "\n",
        "##### Описание\n",
        "Данная таблица содержит описание mcc-кодов транзакций.\n",
        "\n",
        "##### Формат данных\n",
        "```\n",
        "mcc_code;mcc_description\n",
        "1000;словесное описание mcc-кода 1000\n",
        "2000;словесное описание mcc-кода 2000\n",
        "...\n",
        "```\n",
        "\n",
        "##### Описание полей\n",
        " - ```mcc_code``` – mcc-код транзакции;\n",
        " - ```mcc_description``` — описание mcc-кода транзакции.\n",
        "\n",
        "#### Таблица ```tr_types.csv```\n",
        "\n",
        "##### Описание\n",
        "Данная таблица содержит описание типов транзакций.\n",
        "\n",
        "##### Формат данных\n",
        "```\n",
        "tr_type;tr_description\n",
        "1000;словесное описание типа транзакции 1000\n",
        "2000;словесное описание типа транзакции 2000\n",
        "...\n",
        "```\n",
        "\n",
        "##### Описание полей\n",
        " - ```tr_type``` – тип транзакции;\n",
        " - ```tr_description``` — описание типа транзакции;"
      ]
    },
    {
      "cell_type": "code",
      "metadata": {
        "colab": {
          "base_uri": "https://localhost:8080/"
        },
        "id": "pyrX42n3IjvW",
        "outputId": "c68f7282-a913-4fec-cd87-ef21a18688ad"
      },
      "source": [
        "from google.colab import drive\n",
        "drive.mount('/content/drive')"
      ],
      "execution_count": null,
      "outputs": [
        {
          "output_type": "stream",
          "name": "stdout",
          "text": [
            "Mounted at /content/drive\n"
          ]
        }
      ]
    },
    {
      "cell_type": "code",
      "metadata": {
        "id": "cf8rqk73KScw",
        "colab": {
          "base_uri": "https://localhost:8080/"
        },
        "outputId": "a5620306-fa14-4a17-f91e-cb96a2c2469a"
      },
      "source": [
        "!pip install PyDrive"
      ],
      "execution_count": null,
      "outputs": [
        {
          "output_type": "stream",
          "name": "stdout",
          "text": [
            "Requirement already satisfied: PyDrive in /usr/local/lib/python3.7/dist-packages (1.3.1)\n",
            "Requirement already satisfied: oauth2client>=4.0.0 in /usr/local/lib/python3.7/dist-packages (from PyDrive) (4.1.3)\n",
            "Requirement already satisfied: PyYAML>=3.0 in /usr/local/lib/python3.7/dist-packages (from PyDrive) (3.13)\n",
            "Requirement already satisfied: google-api-python-client>=1.2 in /usr/local/lib/python3.7/dist-packages (from PyDrive) (1.12.8)\n",
            "Requirement already satisfied: httplib2<1dev,>=0.15.0 in /usr/local/lib/python3.7/dist-packages (from google-api-python-client>=1.2->PyDrive) (0.17.4)\n",
            "Requirement already satisfied: google-api-core<2dev,>=1.21.0 in /usr/local/lib/python3.7/dist-packages (from google-api-python-client>=1.2->PyDrive) (1.26.3)\n",
            "Requirement already satisfied: six<2dev,>=1.13.0 in /usr/local/lib/python3.7/dist-packages (from google-api-python-client>=1.2->PyDrive) (1.15.0)\n",
            "Requirement already satisfied: google-auth-httplib2>=0.0.3 in /usr/local/lib/python3.7/dist-packages (from google-api-python-client>=1.2->PyDrive) (0.0.4)\n",
            "Requirement already satisfied: uritemplate<4dev,>=3.0.0 in /usr/local/lib/python3.7/dist-packages (from google-api-python-client>=1.2->PyDrive) (3.0.1)\n",
            "Requirement already satisfied: google-auth>=1.16.0 in /usr/local/lib/python3.7/dist-packages (from google-api-python-client>=1.2->PyDrive) (1.35.0)\n",
            "Requirement already satisfied: packaging>=14.3 in /usr/local/lib/python3.7/dist-packages (from google-api-core<2dev,>=1.21.0->google-api-python-client>=1.2->PyDrive) (21.0)\n",
            "Requirement already satisfied: setuptools>=40.3.0 in /usr/local/lib/python3.7/dist-packages (from google-api-core<2dev,>=1.21.0->google-api-python-client>=1.2->PyDrive) (57.4.0)\n",
            "Requirement already satisfied: googleapis-common-protos<2.0dev,>=1.6.0 in /usr/local/lib/python3.7/dist-packages (from google-api-core<2dev,>=1.21.0->google-api-python-client>=1.2->PyDrive) (1.53.0)\n",
            "Requirement already satisfied: protobuf>=3.12.0 in /usr/local/lib/python3.7/dist-packages (from google-api-core<2dev,>=1.21.0->google-api-python-client>=1.2->PyDrive) (3.17.3)\n",
            "Requirement already satisfied: requests<3.0.0dev,>=2.18.0 in /usr/local/lib/python3.7/dist-packages (from google-api-core<2dev,>=1.21.0->google-api-python-client>=1.2->PyDrive) (2.23.0)\n",
            "Requirement already satisfied: pytz in /usr/local/lib/python3.7/dist-packages (from google-api-core<2dev,>=1.21.0->google-api-python-client>=1.2->PyDrive) (2018.9)\n",
            "Requirement already satisfied: pyasn1-modules>=0.2.1 in /usr/local/lib/python3.7/dist-packages (from google-auth>=1.16.0->google-api-python-client>=1.2->PyDrive) (0.2.8)\n",
            "Requirement already satisfied: rsa<5,>=3.1.4 in /usr/local/lib/python3.7/dist-packages (from google-auth>=1.16.0->google-api-python-client>=1.2->PyDrive) (4.7.2)\n",
            "Requirement already satisfied: cachetools<5.0,>=2.0.0 in /usr/local/lib/python3.7/dist-packages (from google-auth>=1.16.0->google-api-python-client>=1.2->PyDrive) (4.2.4)\n",
            "Requirement already satisfied: pyasn1>=0.1.7 in /usr/local/lib/python3.7/dist-packages (from oauth2client>=4.0.0->PyDrive) (0.4.8)\n",
            "Requirement already satisfied: pyparsing>=2.0.2 in /usr/local/lib/python3.7/dist-packages (from packaging>=14.3->google-api-core<2dev,>=1.21.0->google-api-python-client>=1.2->PyDrive) (2.4.7)\n",
            "Requirement already satisfied: urllib3!=1.25.0,!=1.25.1,<1.26,>=1.21.1 in /usr/local/lib/python3.7/dist-packages (from requests<3.0.0dev,>=2.18.0->google-api-core<2dev,>=1.21.0->google-api-python-client>=1.2->PyDrive) (1.24.3)\n",
            "Requirement already satisfied: idna<3,>=2.5 in /usr/local/lib/python3.7/dist-packages (from requests<3.0.0dev,>=2.18.0->google-api-core<2dev,>=1.21.0->google-api-python-client>=1.2->PyDrive) (2.10)\n",
            "Requirement already satisfied: chardet<4,>=3.0.2 in /usr/local/lib/python3.7/dist-packages (from requests<3.0.0dev,>=2.18.0->google-api-core<2dev,>=1.21.0->google-api-python-client>=1.2->PyDrive) (3.0.4)\n",
            "Requirement already satisfied: certifi>=2017.4.17 in /usr/local/lib/python3.7/dist-packages (from requests<3.0.0dev,>=2.18.0->google-api-core<2dev,>=1.21.0->google-api-python-client>=1.2->PyDrive) (2021.5.30)\n"
          ]
        }
      ]
    },
    {
      "cell_type": "code",
      "metadata": {
        "id": "r3nNmaaNKYAF"
      },
      "source": [
        "from pydrive.auth import GoogleAuth\n",
        "from pydrive.drive import GoogleDrive\n",
        "from google.colab import auth\n",
        "from oauth2client.client import GoogleCredentials"
      ],
      "execution_count": null,
      "outputs": []
    },
    {
      "cell_type": "code",
      "metadata": {
        "id": "ruvWp-YRKiMd"
      },
      "source": [
        "auth.authenticate_user()\n",
        "gauth = GoogleAuth()\n",
        "gauth.credentials = GoogleCredentials.get_application_default()\n",
        "drive = GoogleDrive(gauth)"
      ],
      "execution_count": null,
      "outputs": []
    },
    {
      "cell_type": "code",
      "metadata": {
        "id": "ll6mWQHEOLjf"
      },
      "source": [
        "downloaded = drive.CreateFile({'id':\"1C4Y_z4jUyY_egMmLcHkukY5wlL16E_TB\"})   # замените id на id своего файла\n",
        "downloaded.GetContentFile('transactions.csv')"
      ],
      "execution_count": null,
      "outputs": []
    },
    {
      "cell_type": "code",
      "metadata": {
        "colab": {
          "base_uri": "https://localhost:8080/",
          "height": 417
        },
        "id": "tnLXItznJHUU",
        "outputId": "fc74225c-9f8c-4c52-d7ff-8051b16d3384"
      },
      "source": [
        "transactions = pd.read_csv(\"transactions.csv\", sep=\",\", nrows=1_000_000)\n",
        "transactions"
      ],
      "execution_count": null,
      "outputs": [
        {
          "output_type": "execute_result",
          "data": {
            "text/html": [
              "<div>\n",
              "<style scoped>\n",
              "    .dataframe tbody tr th:only-of-type {\n",
              "        vertical-align: middle;\n",
              "    }\n",
              "\n",
              "    .dataframe tbody tr th {\n",
              "        vertical-align: top;\n",
              "    }\n",
              "\n",
              "    .dataframe thead th {\n",
              "        text-align: right;\n",
              "    }\n",
              "</style>\n",
              "<table border=\"1\" class=\"dataframe\">\n",
              "  <thead>\n",
              "    <tr style=\"text-align: right;\">\n",
              "      <th></th>\n",
              "      <th>customer_id</th>\n",
              "      <th>tr_datetime</th>\n",
              "      <th>mcc_code</th>\n",
              "      <th>tr_type</th>\n",
              "      <th>amount</th>\n",
              "      <th>term_id</th>\n",
              "    </tr>\n",
              "  </thead>\n",
              "  <tbody>\n",
              "    <tr>\n",
              "      <th>0</th>\n",
              "      <td>39026145</td>\n",
              "      <td>0 10:23:26</td>\n",
              "      <td>4814</td>\n",
              "      <td>1030</td>\n",
              "      <td>-2245.92</td>\n",
              "      <td>NaN</td>\n",
              "    </tr>\n",
              "    <tr>\n",
              "      <th>1</th>\n",
              "      <td>39026145</td>\n",
              "      <td>1 10:19:29</td>\n",
              "      <td>6011</td>\n",
              "      <td>7010</td>\n",
              "      <td>56147.89</td>\n",
              "      <td>NaN</td>\n",
              "    </tr>\n",
              "    <tr>\n",
              "      <th>2</th>\n",
              "      <td>39026145</td>\n",
              "      <td>1 10:20:56</td>\n",
              "      <td>4829</td>\n",
              "      <td>2330</td>\n",
              "      <td>-56147.89</td>\n",
              "      <td>NaN</td>\n",
              "    </tr>\n",
              "    <tr>\n",
              "      <th>3</th>\n",
              "      <td>39026145</td>\n",
              "      <td>1 10:39:54</td>\n",
              "      <td>5499</td>\n",
              "      <td>1010</td>\n",
              "      <td>-1392.47</td>\n",
              "      <td>NaN</td>\n",
              "    </tr>\n",
              "    <tr>\n",
              "      <th>4</th>\n",
              "      <td>39026145</td>\n",
              "      <td>2 15:33:42</td>\n",
              "      <td>5499</td>\n",
              "      <td>1010</td>\n",
              "      <td>-920.83</td>\n",
              "      <td>NaN</td>\n",
              "    </tr>\n",
              "    <tr>\n",
              "      <th>...</th>\n",
              "      <td>...</td>\n",
              "      <td>...</td>\n",
              "      <td>...</td>\n",
              "      <td>...</td>\n",
              "      <td>...</td>\n",
              "      <td>...</td>\n",
              "    </tr>\n",
              "    <tr>\n",
              "      <th>999995</th>\n",
              "      <td>98801178</td>\n",
              "      <td>269 10:29:06</td>\n",
              "      <td>5921</td>\n",
              "      <td>1010</td>\n",
              "      <td>-23016.59</td>\n",
              "      <td>127873</td>\n",
              "    </tr>\n",
              "    <tr>\n",
              "      <th>999996</th>\n",
              "      <td>98801178</td>\n",
              "      <td>270 10:26:45</td>\n",
              "      <td>5211</td>\n",
              "      <td>1010</td>\n",
              "      <td>-61380.88</td>\n",
              "      <td>10114209</td>\n",
              "    </tr>\n",
              "    <tr>\n",
              "      <th>999997</th>\n",
              "      <td>98801178</td>\n",
              "      <td>270 15:18:53</td>\n",
              "      <td>5921</td>\n",
              "      <td>1010</td>\n",
              "      <td>-11800.27</td>\n",
              "      <td>10105341</td>\n",
              "    </tr>\n",
              "    <tr>\n",
              "      <th>999998</th>\n",
              "      <td>98801178</td>\n",
              "      <td>271 12:47:13</td>\n",
              "      <td>5211</td>\n",
              "      <td>1010</td>\n",
              "      <td>-16170.59</td>\n",
              "      <td>10114209</td>\n",
              "    </tr>\n",
              "    <tr>\n",
              "      <th>999999</th>\n",
              "      <td>98801178</td>\n",
              "      <td>271 14:51:56</td>\n",
              "      <td>5921</td>\n",
              "      <td>1010</td>\n",
              "      <td>-10025.77</td>\n",
              "      <td>123991</td>\n",
              "    </tr>\n",
              "  </tbody>\n",
              "</table>\n",
              "<p>1000000 rows × 6 columns</p>\n",
              "</div>"
            ],
            "text/plain": [
              "        customer_id   tr_datetime  mcc_code  tr_type    amount   term_id\n",
              "0          39026145    0 10:23:26      4814     1030  -2245.92       NaN\n",
              "1          39026145    1 10:19:29      6011     7010  56147.89       NaN\n",
              "2          39026145    1 10:20:56      4829     2330 -56147.89       NaN\n",
              "3          39026145    1 10:39:54      5499     1010  -1392.47       NaN\n",
              "4          39026145    2 15:33:42      5499     1010   -920.83       NaN\n",
              "...             ...           ...       ...      ...       ...       ...\n",
              "999995     98801178  269 10:29:06      5921     1010 -23016.59    127873\n",
              "999996     98801178  270 10:26:45      5211     1010 -61380.88  10114209\n",
              "999997     98801178  270 15:18:53      5921     1010 -11800.27  10105341\n",
              "999998     98801178  271 12:47:13      5211     1010 -16170.59  10114209\n",
              "999999     98801178  271 14:51:56      5921     1010 -10025.77    123991\n",
              "\n",
              "[1000000 rows x 6 columns]"
            ]
          },
          "metadata": {},
          "execution_count": 8
        }
      ]
    },
    {
      "cell_type": "code",
      "metadata": {
        "id": "COZYD6ZHPKwt"
      },
      "source": [
        "downloaded = drive.CreateFile({'id':\"1V-chwc_VYaHQPcAx_W8yxHH2MpbO3PXP\"})   # замените id на id своего файла\n",
        "downloaded.GetContentFile('gender_train.csv')"
      ],
      "execution_count": null,
      "outputs": []
    },
    {
      "cell_type": "code",
      "metadata": {
        "colab": {
          "base_uri": "https://localhost:8080/",
          "height": 417
        },
        "id": "mAj6fYwVPqVH",
        "outputId": "10a2827a-f889-4a23-9a2e-dcf0e27863e8"
      },
      "source": [
        "gender_train = pd.read_csv(\"gender_train.csv\", sep=\",\")\n",
        "gender_train"
      ],
      "execution_count": null,
      "outputs": [
        {
          "output_type": "execute_result",
          "data": {
            "text/html": [
              "<div>\n",
              "<style scoped>\n",
              "    .dataframe tbody tr th:only-of-type {\n",
              "        vertical-align: middle;\n",
              "    }\n",
              "\n",
              "    .dataframe tbody tr th {\n",
              "        vertical-align: top;\n",
              "    }\n",
              "\n",
              "    .dataframe thead th {\n",
              "        text-align: right;\n",
              "    }\n",
              "</style>\n",
              "<table border=\"1\" class=\"dataframe\">\n",
              "  <thead>\n",
              "    <tr style=\"text-align: right;\">\n",
              "      <th></th>\n",
              "      <th>customer_id</th>\n",
              "      <th>gender</th>\n",
              "    </tr>\n",
              "  </thead>\n",
              "  <tbody>\n",
              "    <tr>\n",
              "      <th>0</th>\n",
              "      <td>10928546</td>\n",
              "      <td>1</td>\n",
              "    </tr>\n",
              "    <tr>\n",
              "      <th>1</th>\n",
              "      <td>69348468</td>\n",
              "      <td>1</td>\n",
              "    </tr>\n",
              "    <tr>\n",
              "      <th>2</th>\n",
              "      <td>61009479</td>\n",
              "      <td>0</td>\n",
              "    </tr>\n",
              "    <tr>\n",
              "      <th>3</th>\n",
              "      <td>74045822</td>\n",
              "      <td>0</td>\n",
              "    </tr>\n",
              "    <tr>\n",
              "      <th>4</th>\n",
              "      <td>27979606</td>\n",
              "      <td>1</td>\n",
              "    </tr>\n",
              "    <tr>\n",
              "      <th>...</th>\n",
              "      <td>...</td>\n",
              "      <td>...</td>\n",
              "    </tr>\n",
              "    <tr>\n",
              "      <th>8395</th>\n",
              "      <td>90417572</td>\n",
              "      <td>0</td>\n",
              "    </tr>\n",
              "    <tr>\n",
              "      <th>8396</th>\n",
              "      <td>66837341</td>\n",
              "      <td>0</td>\n",
              "    </tr>\n",
              "    <tr>\n",
              "      <th>8397</th>\n",
              "      <td>10758984</td>\n",
              "      <td>1</td>\n",
              "    </tr>\n",
              "    <tr>\n",
              "      <th>8398</th>\n",
              "      <td>11376556</td>\n",
              "      <td>0</td>\n",
              "    </tr>\n",
              "    <tr>\n",
              "      <th>8399</th>\n",
              "      <td>29190649</td>\n",
              "      <td>0</td>\n",
              "    </tr>\n",
              "  </tbody>\n",
              "</table>\n",
              "<p>8400 rows × 2 columns</p>\n",
              "</div>"
            ],
            "text/plain": [
              "      customer_id  gender\n",
              "0        10928546       1\n",
              "1        69348468       1\n",
              "2        61009479       0\n",
              "3        74045822       0\n",
              "4        27979606       1\n",
              "...           ...     ...\n",
              "8395     90417572       0\n",
              "8396     66837341       0\n",
              "8397     10758984       1\n",
              "8398     11376556       0\n",
              "8399     29190649       0\n",
              "\n",
              "[8400 rows x 2 columns]"
            ]
          },
          "metadata": {},
          "execution_count": 10
        }
      ]
    },
    {
      "cell_type": "code",
      "metadata": {
        "id": "65-nrEBKP_VO"
      },
      "source": [
        "downloaded = drive.CreateFile({'id':\"1kOI2RiitJ7Jeuy7tYmVyk2m0H4PmAdYu\"})   # замените id на id своего файла\n",
        "downloaded.GetContentFile('tr_mcc_codes.csv')"
      ],
      "execution_count": null,
      "outputs": []
    },
    {
      "cell_type": "code",
      "metadata": {
        "colab": {
          "base_uri": "https://localhost:8080/",
          "height": 417
        },
        "id": "ZAYMT3gJP_0m",
        "outputId": "72f6ec2a-d25e-46b6-e356-a28201c3d40a"
      },
      "source": [
        "tr_mcc_codes = pd.read_csv(\"tr_mcc_codes.csv\", sep=\";\")\n",
        "tr_mcc_codes"
      ],
      "execution_count": null,
      "outputs": [
        {
          "output_type": "execute_result",
          "data": {
            "text/html": [
              "<div>\n",
              "<style scoped>\n",
              "    .dataframe tbody tr th:only-of-type {\n",
              "        vertical-align: middle;\n",
              "    }\n",
              "\n",
              "    .dataframe tbody tr th {\n",
              "        vertical-align: top;\n",
              "    }\n",
              "\n",
              "    .dataframe thead th {\n",
              "        text-align: right;\n",
              "    }\n",
              "</style>\n",
              "<table border=\"1\" class=\"dataframe\">\n",
              "  <thead>\n",
              "    <tr style=\"text-align: right;\">\n",
              "      <th></th>\n",
              "      <th>mcc_code</th>\n",
              "      <th>mcc_description</th>\n",
              "    </tr>\n",
              "  </thead>\n",
              "  <tbody>\n",
              "    <tr>\n",
              "      <th>0</th>\n",
              "      <td>742</td>\n",
              "      <td>Ветеринарные услуги</td>\n",
              "    </tr>\n",
              "    <tr>\n",
              "      <th>1</th>\n",
              "      <td>1711</td>\n",
              "      <td>Генеральные подрядчики по вентиляции, теплосна...</td>\n",
              "    </tr>\n",
              "    <tr>\n",
              "      <th>2</th>\n",
              "      <td>1731</td>\n",
              "      <td>Подрядчики по электричеству</td>\n",
              "    </tr>\n",
              "    <tr>\n",
              "      <th>3</th>\n",
              "      <td>1799</td>\n",
              "      <td>Подрядчики, специализированная торговля — нигд...</td>\n",
              "    </tr>\n",
              "    <tr>\n",
              "      <th>4</th>\n",
              "      <td>2741</td>\n",
              "      <td>Разнообразные издательства/печатное дело</td>\n",
              "    </tr>\n",
              "    <tr>\n",
              "      <th>...</th>\n",
              "      <td>...</td>\n",
              "      <td>...</td>\n",
              "    </tr>\n",
              "    <tr>\n",
              "      <th>179</th>\n",
              "      <td>9211</td>\n",
              "      <td>Судовые выплаты, включая алименты и детскую по...</td>\n",
              "    </tr>\n",
              "    <tr>\n",
              "      <th>180</th>\n",
              "      <td>9222</td>\n",
              "      <td>Штрафы</td>\n",
              "    </tr>\n",
              "    <tr>\n",
              "      <th>181</th>\n",
              "      <td>9311</td>\n",
              "      <td>Налоговые платежи</td>\n",
              "    </tr>\n",
              "    <tr>\n",
              "      <th>182</th>\n",
              "      <td>9399</td>\n",
              "      <td>Правительственные услуги, нигде ранее не класс...</td>\n",
              "    </tr>\n",
              "    <tr>\n",
              "      <th>183</th>\n",
              "      <td>9402</td>\n",
              "      <td>Почтовые услуги — только правительство</td>\n",
              "    </tr>\n",
              "  </tbody>\n",
              "</table>\n",
              "<p>184 rows × 2 columns</p>\n",
              "</div>"
            ],
            "text/plain": [
              "     mcc_code                                    mcc_description\n",
              "0         742                                Ветеринарные услуги\n",
              "1        1711  Генеральные подрядчики по вентиляции, теплосна...\n",
              "2        1731                        Подрядчики по электричеству\n",
              "3        1799  Подрядчики, специализированная торговля — нигд...\n",
              "4        2741           Разнообразные издательства/печатное дело\n",
              "..        ...                                                ...\n",
              "179      9211  Судовые выплаты, включая алименты и детскую по...\n",
              "180      9222                                             Штрафы\n",
              "181      9311                                  Налоговые платежи\n",
              "182      9399  Правительственные услуги, нигде ранее не класс...\n",
              "183      9402             Почтовые услуги — только правительство\n",
              "\n",
              "[184 rows x 2 columns]"
            ]
          },
          "metadata": {},
          "execution_count": 12
        }
      ]
    },
    {
      "cell_type": "code",
      "metadata": {
        "id": "gppjH19JQgPJ"
      },
      "source": [
        "downloaded = drive.CreateFile({'id':\"1BOafFNrWnMjrFURHwkjvQn21TkzZmSAB\"})   # замените id на id своего файла\n",
        "downloaded.GetContentFile('tr_types.csv')"
      ],
      "execution_count": null,
      "outputs": []
    },
    {
      "cell_type": "code",
      "metadata": {
        "colab": {
          "base_uri": "https://localhost:8080/",
          "height": 417
        },
        "id": "0J71MqZpQgoy",
        "outputId": "676b6a4d-9981-4ef0-cf64-4c5344cfb587"
      },
      "source": [
        "tr_types = pd.read_csv(\"tr_types.csv\", sep=\";\")\n",
        "tr_types"
      ],
      "execution_count": null,
      "outputs": [
        {
          "output_type": "execute_result",
          "data": {
            "text/html": [
              "<div>\n",
              "<style scoped>\n",
              "    .dataframe tbody tr th:only-of-type {\n",
              "        vertical-align: middle;\n",
              "    }\n",
              "\n",
              "    .dataframe tbody tr th {\n",
              "        vertical-align: top;\n",
              "    }\n",
              "\n",
              "    .dataframe thead th {\n",
              "        text-align: right;\n",
              "    }\n",
              "</style>\n",
              "<table border=\"1\" class=\"dataframe\">\n",
              "  <thead>\n",
              "    <tr style=\"text-align: right;\">\n",
              "      <th></th>\n",
              "      <th>tr_type</th>\n",
              "      <th>tr_description</th>\n",
              "    </tr>\n",
              "  </thead>\n",
              "  <tbody>\n",
              "    <tr>\n",
              "      <th>0</th>\n",
              "      <td>3200</td>\n",
              "      <td>Плата за предоставление услуг посредством моби...</td>\n",
              "    </tr>\n",
              "    <tr>\n",
              "      <th>1</th>\n",
              "      <td>3210</td>\n",
              "      <td>Плата за предоставление отчета по счету карты ...</td>\n",
              "    </tr>\n",
              "    <tr>\n",
              "      <th>2</th>\n",
              "      <td>3800</td>\n",
              "      <td>Плата за обслуживание банковской карты (за пер...</td>\n",
              "    </tr>\n",
              "    <tr>\n",
              "      <th>3</th>\n",
              "      <td>4000</td>\n",
              "      <td>Плата за получение наличных в Сбербанке</td>\n",
              "    </tr>\n",
              "    <tr>\n",
              "      <th>4</th>\n",
              "      <td>4001</td>\n",
              "      <td>Плата за получение наличных в Сбербанке (в дру...</td>\n",
              "    </tr>\n",
              "    <tr>\n",
              "      <th>...</th>\n",
              "      <td>...</td>\n",
              "      <td>...</td>\n",
              "    </tr>\n",
              "    <tr>\n",
              "      <th>150</th>\n",
              "      <td>2990</td>\n",
              "      <td>Списание по требованию</td>\n",
              "    </tr>\n",
              "    <tr>\n",
              "      <th>151</th>\n",
              "      <td>2992</td>\n",
              "      <td>Списание средств для погашения задолженности п...</td>\n",
              "    </tr>\n",
              "    <tr>\n",
              "      <th>152</th>\n",
              "      <td>3001</td>\n",
              "      <td>Комиссия за обслуживание ссудного счета</td>\n",
              "    </tr>\n",
              "    <tr>\n",
              "      <th>153</th>\n",
              "      <td>3030</td>\n",
              "      <td>Плата за обслуживание банковской карты (за пос...</td>\n",
              "    </tr>\n",
              "    <tr>\n",
              "      <th>154</th>\n",
              "      <td>3120</td>\n",
              "      <td>Плата за досрочный перевыпуск карты</td>\n",
              "    </tr>\n",
              "  </tbody>\n",
              "</table>\n",
              "<p>155 rows × 2 columns</p>\n",
              "</div>"
            ],
            "text/plain": [
              "     tr_type                                     tr_description\n",
              "0       3200  Плата за предоставление услуг посредством моби...\n",
              "1       3210  Плата за предоставление отчета по счету карты ...\n",
              "2       3800  Плата за обслуживание банковской карты (за пер...\n",
              "3       4000            Плата за получение наличных в Сбербанке\n",
              "4       4001  Плата за получение наличных в Сбербанке (в дру...\n",
              "..       ...                                                ...\n",
              "150     2990                             Списание по требованию\n",
              "151     2992  Списание средств для погашения задолженности п...\n",
              "152     3001            Комиссия за обслуживание ссудного счета\n",
              "153     3030  Плата за обслуживание банковской карты (за пос...\n",
              "154     3120                Плата за досрочный перевыпуск карты\n",
              "\n",
              "[155 rows x 2 columns]"
            ]
          },
          "metadata": {},
          "execution_count": 14
        }
      ]
    },
    {
      "cell_type": "markdown",
      "metadata": {
        "id": "04CYsBKz8JeB"
      },
      "source": [
        "\n",
        "Задания 1-4 делаются без использования merge!\n",
        "\n",
        "## Задание 1\n",
        "\n"
      ]
    },
    {
      "cell_type": "markdown",
      "metadata": {
        "id": "1hcrfwsYN_Yz"
      },
      "source": [
        "1. Для столбца tr_type датафрейма transactions выберите произвольные 1000 строк с помощью метода sample\n",
        "2. В полученной на предыдущем этапе подвыборке найдите долю транзакций (стобец tr_description в датасете tr_types), в которой содержится подстрока 'POS' или 'ATM'\n"
      ]
    },
    {
      "cell_type": "code",
      "metadata": {
        "colab": {
          "base_uri": "https://localhost:8080/",
          "height": 417
        },
        "id": "SjDrAUOaTVsI",
        "outputId": "74cd963f-efe0-4704-94fc-c0b8367079ea"
      },
      "source": [
        "# 1\n",
        "random_tr_type = pd.DataFrame(transactions['tr_type'].sample(n=1000))\n",
        "random_tr_type.reset_index()"
      ],
      "execution_count": null,
      "outputs": [
        {
          "output_type": "execute_result",
          "data": {
            "text/html": [
              "<div>\n",
              "<style scoped>\n",
              "    .dataframe tbody tr th:only-of-type {\n",
              "        vertical-align: middle;\n",
              "    }\n",
              "\n",
              "    .dataframe tbody tr th {\n",
              "        vertical-align: top;\n",
              "    }\n",
              "\n",
              "    .dataframe thead th {\n",
              "        text-align: right;\n",
              "    }\n",
              "</style>\n",
              "<table border=\"1\" class=\"dataframe\">\n",
              "  <thead>\n",
              "    <tr style=\"text-align: right;\">\n",
              "      <th></th>\n",
              "      <th>index</th>\n",
              "      <th>tr_type</th>\n",
              "    </tr>\n",
              "  </thead>\n",
              "  <tbody>\n",
              "    <tr>\n",
              "      <th>0</th>\n",
              "      <td>710370</td>\n",
              "      <td>7070</td>\n",
              "    </tr>\n",
              "    <tr>\n",
              "      <th>1</th>\n",
              "      <td>785230</td>\n",
              "      <td>7070</td>\n",
              "    </tr>\n",
              "    <tr>\n",
              "      <th>2</th>\n",
              "      <td>861370</td>\n",
              "      <td>2010</td>\n",
              "    </tr>\n",
              "    <tr>\n",
              "      <th>3</th>\n",
              "      <td>777968</td>\n",
              "      <td>2010</td>\n",
              "    </tr>\n",
              "    <tr>\n",
              "      <th>4</th>\n",
              "      <td>965922</td>\n",
              "      <td>7010</td>\n",
              "    </tr>\n",
              "    <tr>\n",
              "      <th>...</th>\n",
              "      <td>...</td>\n",
              "      <td>...</td>\n",
              "    </tr>\n",
              "    <tr>\n",
              "      <th>995</th>\n",
              "      <td>231811</td>\n",
              "      <td>1110</td>\n",
              "    </tr>\n",
              "    <tr>\n",
              "      <th>996</th>\n",
              "      <td>187276</td>\n",
              "      <td>1110</td>\n",
              "    </tr>\n",
              "    <tr>\n",
              "      <th>997</th>\n",
              "      <td>112820</td>\n",
              "      <td>1010</td>\n",
              "    </tr>\n",
              "    <tr>\n",
              "      <th>998</th>\n",
              "      <td>395625</td>\n",
              "      <td>7031</td>\n",
              "    </tr>\n",
              "    <tr>\n",
              "      <th>999</th>\n",
              "      <td>678776</td>\n",
              "      <td>7010</td>\n",
              "    </tr>\n",
              "  </tbody>\n",
              "</table>\n",
              "<p>1000 rows × 2 columns</p>\n",
              "</div>"
            ],
            "text/plain": [
              "      index  tr_type\n",
              "0    710370     7070\n",
              "1    785230     7070\n",
              "2    861370     2010\n",
              "3    777968     2010\n",
              "4    965922     7010\n",
              "..      ...      ...\n",
              "995  231811     1110\n",
              "996  187276     1110\n",
              "997  112820     1010\n",
              "998  395625     7031\n",
              "999  678776     7010\n",
              "\n",
              "[1000 rows x 2 columns]"
            ]
          },
          "metadata": {},
          "execution_count": 15
        }
      ]
    },
    {
      "cell_type": "code",
      "metadata": {
        "colab": {
          "base_uri": "https://localhost:8080/"
        },
        "id": "e3O2IBKrXCeA",
        "outputId": "f27d529a-bfc4-4586-c035-606d72264a50"
      },
      "source": [
        "# 2\n",
        "tr_types_based_on_random_tr_type = tr_types[tr_types[\"tr_type\"].isin(random_tr_type[\"tr_type\"])] \n",
        "\n",
        "tr_types_with_ATM_or_POS = tr_types_based_on_random_tr_type[(tr_types_based_on_random_tr_type[\"tr_description\"].str.contains(\"АТМ\")) | \n",
        "                                                            (tr_types_based_on_random_tr_type[\"tr_description\"].str.contains(\"POS\"))]\n",
        "\n",
        "ok_transactions = len(random_tr_type[random_tr_type[\"tr_type\"].isin(tr_types_with_ATM_or_POS[\"tr_type\"])])\n",
        "print(ok_transactions * 100 / 1000, \"%\")\n",
        "# tr_types_based_on_random_tr_type\n",
        "# tr_types_with_ATM_or_POS"
      ],
      "execution_count": null,
      "outputs": [
        {
          "output_type": "stream",
          "name": "stdout",
          "text": [
            "61.7 %\n"
          ]
        }
      ]
    },
    {
      "cell_type": "markdown",
      "metadata": {
        "id": "fiZBDIZt8JeS"
      },
      "source": [
        "## Задание 2 \n"
      ]
    },
    {
      "cell_type": "markdown",
      "metadata": {
        "id": "FFKeBUThOCrz"
      },
      "source": [
        "1. Для столбца tr_type датафрейма transactions посчитайте частоту встречаемости всех типов транзакций tr_type в transactions.\n",
        "2. Выведите топ-10 транзакций по частоте встречаемости (вывести для них tr_description тоже)."
      ]
    },
    {
      "cell_type": "code",
      "metadata": {
        "colab": {
          "base_uri": "https://localhost:8080/",
          "height": 447
        },
        "id": "7OStfG7DstSr",
        "outputId": "70e634b4-b98a-40bd-f041-a719ff803d7b"
      },
      "source": [
        "# 1\n",
        "tr_types_in_transactions = pd.DataFrame(transactions[\"tr_type\"].value_counts(normalize=\"True\"))\n",
        "tr_types_in_transactions.rename(columns = {\"tr_type\": \"frequency\"}, inplace=True)\n",
        "tr_types_in_transactions.index.name = \"tr_type\"\n",
        "\n",
        "tr_types_in_transactions"
      ],
      "execution_count": null,
      "outputs": [
        {
          "output_type": "execute_result",
          "data": {
            "text/html": [
              "<div>\n",
              "<style scoped>\n",
              "    .dataframe tbody tr th:only-of-type {\n",
              "        vertical-align: middle;\n",
              "    }\n",
              "\n",
              "    .dataframe tbody tr th {\n",
              "        vertical-align: top;\n",
              "    }\n",
              "\n",
              "    .dataframe thead th {\n",
              "        text-align: right;\n",
              "    }\n",
              "</style>\n",
              "<table border=\"1\" class=\"dataframe\">\n",
              "  <thead>\n",
              "    <tr style=\"text-align: right;\">\n",
              "      <th></th>\n",
              "      <th>frequency</th>\n",
              "    </tr>\n",
              "    <tr>\n",
              "      <th>tr_type</th>\n",
              "      <th></th>\n",
              "    </tr>\n",
              "  </thead>\n",
              "  <tbody>\n",
              "    <tr>\n",
              "      <th>1010</th>\n",
              "      <td>0.231117</td>\n",
              "    </tr>\n",
              "    <tr>\n",
              "      <th>2010</th>\n",
              "      <td>0.151166</td>\n",
              "    </tr>\n",
              "    <tr>\n",
              "      <th>7070</th>\n",
              "      <td>0.149006</td>\n",
              "    </tr>\n",
              "    <tr>\n",
              "      <th>1110</th>\n",
              "      <td>0.137658</td>\n",
              "    </tr>\n",
              "    <tr>\n",
              "      <th>1030</th>\n",
              "      <td>0.118975</td>\n",
              "    </tr>\n",
              "    <tr>\n",
              "      <th>...</th>\n",
              "      <td>...</td>\n",
              "    </tr>\n",
              "    <tr>\n",
              "      <th>4061</th>\n",
              "      <td>0.000004</td>\n",
              "    </tr>\n",
              "    <tr>\n",
              "      <th>4096</th>\n",
              "      <td>0.000004</td>\n",
              "    </tr>\n",
              "    <tr>\n",
              "      <th>8146</th>\n",
              "      <td>0.000003</td>\n",
              "    </tr>\n",
              "    <tr>\n",
              "      <th>8100</th>\n",
              "      <td>0.000002</td>\n",
              "    </tr>\n",
              "    <tr>\n",
              "      <th>1510</th>\n",
              "      <td>0.000002</td>\n",
              "    </tr>\n",
              "  </tbody>\n",
              "</table>\n",
              "<p>72 rows × 1 columns</p>\n",
              "</div>"
            ],
            "text/plain": [
              "         frequency\n",
              "tr_type           \n",
              "1010      0.231117\n",
              "2010      0.151166\n",
              "7070      0.149006\n",
              "1110      0.137658\n",
              "1030      0.118975\n",
              "...            ...\n",
              "4061      0.000004\n",
              "4096      0.000004\n",
              "8146      0.000003\n",
              "8100      0.000002\n",
              "1510      0.000002\n",
              "\n",
              "[72 rows x 1 columns]"
            ]
          },
          "metadata": {},
          "execution_count": 17
        }
      ]
    },
    {
      "cell_type": "code",
      "metadata": {
        "colab": {
          "base_uri": "https://localhost:8080/",
          "height": 458
        },
        "id": "HzmLnie8xPc3",
        "outputId": "93ee8581-9d01-4248-e202-9d8ff034dbb2"
      },
      "source": [
        "# 2\n",
        "top_10_tr_types = tr_types_in_transactions.head(10)\n",
        "top_10_with_tr_description = tr_types[tr_types[\"tr_type\"].isin(top_10_tr_types.index)]\n",
        "top_10_with_tr_description[\"frequency\"] = top_10_tr_types[\"frequency\"].sort_index().values\n",
        "top_10_with_tr_description.sort_values(by=\"frequency\", ascending=False).reset_index()"
      ],
      "execution_count": null,
      "outputs": [
        {
          "output_type": "stream",
          "name": "stderr",
          "text": [
            "/usr/local/lib/python3.7/dist-packages/ipykernel_launcher.py:4: SettingWithCopyWarning: \n",
            "A value is trying to be set on a copy of a slice from a DataFrame.\n",
            "Try using .loc[row_indexer,col_indexer] = value instead\n",
            "\n",
            "See the caveats in the documentation: https://pandas.pydata.org/pandas-docs/stable/user_guide/indexing.html#returning-a-view-versus-a-copy\n",
            "  after removing the cwd from sys.path.\n"
          ]
        },
        {
          "output_type": "execute_result",
          "data": {
            "text/html": [
              "<div>\n",
              "<style scoped>\n",
              "    .dataframe tbody tr th:only-of-type {\n",
              "        vertical-align: middle;\n",
              "    }\n",
              "\n",
              "    .dataframe tbody tr th {\n",
              "        vertical-align: top;\n",
              "    }\n",
              "\n",
              "    .dataframe thead th {\n",
              "        text-align: right;\n",
              "    }\n",
              "</style>\n",
              "<table border=\"1\" class=\"dataframe\">\n",
              "  <thead>\n",
              "    <tr style=\"text-align: right;\">\n",
              "      <th></th>\n",
              "      <th>index</th>\n",
              "      <th>tr_type</th>\n",
              "      <th>tr_description</th>\n",
              "      <th>frequency</th>\n",
              "    </tr>\n",
              "  </thead>\n",
              "  <tbody>\n",
              "    <tr>\n",
              "      <th>0</th>\n",
              "      <td>39</td>\n",
              "      <td>7010</td>\n",
              "      <td>Взнос наличных через АТМ (в своем тер.банке)</td>\n",
              "      <td>0.231117</td>\n",
              "    </tr>\n",
              "    <tr>\n",
              "      <th>1</th>\n",
              "      <td>98</td>\n",
              "      <td>1010</td>\n",
              "      <td>Покупка. POS ТУ СБ РФ</td>\n",
              "      <td>0.151166</td>\n",
              "    </tr>\n",
              "    <tr>\n",
              "      <th>2</th>\n",
              "      <td>106</td>\n",
              "      <td>2010</td>\n",
              "      <td>Выдача наличных в АТМ Сбербанк России</td>\n",
              "      <td>0.149006</td>\n",
              "    </tr>\n",
              "    <tr>\n",
              "      <th>3</th>\n",
              "      <td>60</td>\n",
              "      <td>7071</td>\n",
              "      <td>Перевод на карту (с карты) через Мобильный бан...</td>\n",
              "      <td>0.137658</td>\n",
              "    </tr>\n",
              "    <tr>\n",
              "      <th>4</th>\n",
              "      <td>47</td>\n",
              "      <td>7030</td>\n",
              "      <td>Перевод на карту (с карты) через АТМ (в предел...</td>\n",
              "      <td>0.118975</td>\n",
              "    </tr>\n",
              "    <tr>\n",
              "      <th>5</th>\n",
              "      <td>99</td>\n",
              "      <td>1030</td>\n",
              "      <td>Оплата услуги. Банкоматы СБ РФ</td>\n",
              "      <td>0.049830</td>\n",
              "    </tr>\n",
              "    <tr>\n",
              "      <th>6</th>\n",
              "      <td>100</td>\n",
              "      <td>1100</td>\n",
              "      <td>Покупка. ТУ  Россия</td>\n",
              "      <td>0.028972</td>\n",
              "    </tr>\n",
              "    <tr>\n",
              "      <th>7</th>\n",
              "      <td>101</td>\n",
              "      <td>1110</td>\n",
              "      <td>Покупка. POS ТУ Россия</td>\n",
              "      <td>0.026078</td>\n",
              "    </tr>\n",
              "    <tr>\n",
              "      <th>8</th>\n",
              "      <td>129</td>\n",
              "      <td>2370</td>\n",
              "      <td>Списание с карты на карту по операции &lt;перевод...</td>\n",
              "      <td>0.015781</td>\n",
              "    </tr>\n",
              "    <tr>\n",
              "      <th>9</th>\n",
              "      <td>59</td>\n",
              "      <td>7070</td>\n",
              "      <td>Перевод на карту (с карты) через Мобильный бан...</td>\n",
              "      <td>0.015476</td>\n",
              "    </tr>\n",
              "  </tbody>\n",
              "</table>\n",
              "</div>"
            ],
            "text/plain": [
              "   index  tr_type                                     tr_description  frequency\n",
              "0     39     7010       Взнос наличных через АТМ (в своем тер.банке)   0.231117\n",
              "1     98     1010                              Покупка. POS ТУ СБ РФ   0.151166\n",
              "2    106     2010              Выдача наличных в АТМ Сбербанк России   0.149006\n",
              "3     60     7071  Перевод на карту (с карты) через Мобильный бан...   0.137658\n",
              "4     47     7030  Перевод на карту (с карты) через АТМ (в предел...   0.118975\n",
              "5     99     1030                     Оплата услуги. Банкоматы СБ РФ   0.049830\n",
              "6    100     1100                                Покупка. ТУ  Россия   0.028972\n",
              "7    101     1110                             Покупка. POS ТУ Россия   0.026078\n",
              "8    129     2370  Списание с карты на карту по операции <перевод...   0.015781\n",
              "9     59     7070  Перевод на карту (с карты) через Мобильный бан...   0.015476"
            ]
          },
          "metadata": {},
          "execution_count": 18
        }
      ]
    },
    {
      "cell_type": "markdown",
      "metadata": {
        "id": "mktm_JeA8JeX"
      },
      "source": [
        "## Задание 3\n",
        "1. В датафрейме transactions найдите клиента с максимальной суммой приходов на карту\n",
        "2. В датафрейме transactions найдите клиента с максимальной суммой расходов по карте\n",
        "3. Найдите модуль разницы для этих клиентов между суммой расходов и суммой приходов"
      ]
    },
    {
      "cell_type": "code",
      "metadata": {
        "colab": {
          "base_uri": "https://localhost:8080/"
        },
        "id": "BxkkQEvF5WpD",
        "outputId": "38c57981-4d44-4bda-8f3d-a705271d2a1c"
      },
      "source": [
        "transactions_sum = transactions[transactions[\"amount\"] > 0]\n",
        "transactions_sum[\"total_amount\"] = transactions_sum.groupby(\"customer_id\")[\"amount\"].transform(sum)\n",
        "transactions_sum_sort = transactions_sum.sort_values(by=\"total_amount\", ascending=False).reset_index()\n",
        "biggest_total_sum_customer = transactions_sum_sort.at[0, \"customer_id\"]\n",
        "biggest_total_sum_customer"
      ],
      "execution_count": null,
      "outputs": [
        {
          "output_type": "stream",
          "name": "stderr",
          "text": [
            "/usr/local/lib/python3.7/dist-packages/ipykernel_launcher.py:2: SettingWithCopyWarning: \n",
            "A value is trying to be set on a copy of a slice from a DataFrame.\n",
            "Try using .loc[row_indexer,col_indexer] = value instead\n",
            "\n",
            "See the caveats in the documentation: https://pandas.pydata.org/pandas-docs/stable/user_guide/indexing.html#returning-a-view-versus-a-copy\n",
            "  \n"
          ]
        },
        {
          "output_type": "execute_result",
          "data": {
            "text/plain": [
              "70780820"
            ]
          },
          "metadata": {},
          "execution_count": 19
        }
      ]
    },
    {
      "cell_type": "code",
      "metadata": {
        "colab": {
          "base_uri": "https://localhost:8080/"
        },
        "id": "FuJH0Ad1-oQt",
        "outputId": "c7fdc7b3-b2ba-48eb-c57b-b2674a6dfbf4"
      },
      "source": [
        "transactions_expenses = transactions[transactions[\"amount\"] < 0]\n",
        "transactions_expenses[\"total_amount\"] = transactions_expenses.groupby(\"customer_id\")[\"amount\"].transform(sum)\n",
        "transactions_expenses_sort = transactions_expenses.sort_values(by=\"total_amount\").reset_index()\n",
        "biggest_total_expenses_customer = transactions_expenses_sort.at[0, \"customer_id\"]\n",
        "biggest_total_expenses_customer"
      ],
      "execution_count": null,
      "outputs": [
        {
          "output_type": "stream",
          "name": "stderr",
          "text": [
            "/usr/local/lib/python3.7/dist-packages/ipykernel_launcher.py:2: SettingWithCopyWarning: \n",
            "A value is trying to be set on a copy of a slice from a DataFrame.\n",
            "Try using .loc[row_indexer,col_indexer] = value instead\n",
            "\n",
            "See the caveats in the documentation: https://pandas.pydata.org/pandas-docs/stable/user_guide/indexing.html#returning-a-view-versus-a-copy\n",
            "  \n"
          ]
        },
        {
          "output_type": "execute_result",
          "data": {
            "text/plain": [
              "70780820"
            ]
          },
          "metadata": {},
          "execution_count": 20
        }
      ]
    },
    {
      "cell_type": "code",
      "metadata": {
        "colab": {
          "base_uri": "https://localhost:8080/"
        },
        "id": "DXrreHXLBHbe",
        "outputId": "2634dcce-0fa9-4c2f-b5e7-ed357c8e6e24"
      },
      "source": [
        "total_sum_from_first = transactions_sum_sort[transactions_sum_sort[\"customer_id\"] == \n",
        "                                                       biggest_total_sum_customer].at[0, \"total_amount\"]\n",
        "total_sum_from_second = transactions_sum_sort[transactions_sum_sort[\"customer_id\"] == \n",
        "                                                       biggest_total_expenses_customer].at[0, \"total_amount\"]\n",
        "total_expenses_from_first = transactions_expenses_sort[transactions_expenses_sort[\"customer_id\"] == \n",
        "                                                       biggest_total_sum_customer].at[0, \"total_amount\"]\n",
        "total_expenses_from_second = transactions_expenses_sort[transactions_expenses_sort[\"customer_id\"] == \n",
        "                                                       biggest_total_expenses_customer].at[0, \"total_amount\"] \n",
        "print(\"for \", biggest_total_sum_customer, \": \", total_sum_from_first - total_expenses_from_first)\n",
        "print(\"for \", biggest_total_expenses_customer, \": \", total_sum_from_second - total_expenses_from_second)                                                  "
      ],
      "execution_count": null,
      "outputs": [
        {
          "output_type": "stream",
          "name": "stdout",
          "text": [
            "for  70780820 :  2498067091.600018\n",
            "for  70780820 :  2498067091.600018\n"
          ]
        }
      ]
    },
    {
      "cell_type": "markdown",
      "metadata": {
        "id": "BYrJ5b_E8Jee"
      },
      "source": [
        "## Задание 4\n",
        "1. Найдите среднее арифметическое и медиану по amount по всем типам транзакций из топ 10 из задания 2\n",
        "1. Найдите среднее арифметическое и медиану по amount по всем типам транзакций для клиентов из задания 3"
      ]
    },
    {
      "cell_type": "code",
      "metadata": {
        "colab": {
          "base_uri": "https://localhost:8080/",
          "height": 388
        },
        "id": "V_D3ie8ZRr5y",
        "outputId": "388d6928-7195-4346-d015-cfec3bfb4c77"
      },
      "source": [
        "top_10_transactions = transactions[transactions[\"tr_type\"].isin(top_10_tr_types.index)]\n",
        "mean_and_median = pd.DataFrame(top_10_transactions.groupby(\"tr_type\")[\"amount\"].mean())\n",
        "mean_and_median.rename(columns = {\"amount\": \"mean\"}, inplace=True)\n",
        "mean_and_median[\"median\"] = top_10_transactions.groupby(\"tr_type\")[\"amount\"].median()\n",
        "mean_and_median"
      ],
      "execution_count": null,
      "outputs": [
        {
          "output_type": "execute_result",
          "data": {
            "text/html": [
              "<div>\n",
              "<style scoped>\n",
              "    .dataframe tbody tr th:only-of-type {\n",
              "        vertical-align: middle;\n",
              "    }\n",
              "\n",
              "    .dataframe tbody tr th {\n",
              "        vertical-align: top;\n",
              "    }\n",
              "\n",
              "    .dataframe thead th {\n",
              "        text-align: right;\n",
              "    }\n",
              "</style>\n",
              "<table border=\"1\" class=\"dataframe\">\n",
              "  <thead>\n",
              "    <tr style=\"text-align: right;\">\n",
              "      <th></th>\n",
              "      <th>mean</th>\n",
              "      <th>median</th>\n",
              "    </tr>\n",
              "    <tr>\n",
              "      <th>tr_type</th>\n",
              "      <th></th>\n",
              "      <th></th>\n",
              "    </tr>\n",
              "  </thead>\n",
              "  <tbody>\n",
              "    <tr>\n",
              "      <th>1010</th>\n",
              "      <td>-19784.748640</td>\n",
              "      <td>-7411.52</td>\n",
              "    </tr>\n",
              "    <tr>\n",
              "      <th>1030</th>\n",
              "      <td>-5320.980222</td>\n",
              "      <td>-2245.92</td>\n",
              "    </tr>\n",
              "    <tr>\n",
              "      <th>1100</th>\n",
              "      <td>-44061.827262</td>\n",
              "      <td>-10188.26</td>\n",
              "    </tr>\n",
              "    <tr>\n",
              "      <th>1110</th>\n",
              "      <td>-32119.330371</td>\n",
              "      <td>-11207.57</td>\n",
              "    </tr>\n",
              "    <tr>\n",
              "      <th>2010</th>\n",
              "      <td>-136077.629325</td>\n",
              "      <td>-44918.32</td>\n",
              "    </tr>\n",
              "    <tr>\n",
              "      <th>2370</th>\n",
              "      <td>-205418.249032</td>\n",
              "      <td>-44918.32</td>\n",
              "    </tr>\n",
              "    <tr>\n",
              "      <th>7010</th>\n",
              "      <td>276391.789596</td>\n",
              "      <td>112295.79</td>\n",
              "    </tr>\n",
              "    <tr>\n",
              "      <th>7030</th>\n",
              "      <td>86104.332909</td>\n",
              "      <td>13951.52</td>\n",
              "    </tr>\n",
              "    <tr>\n",
              "      <th>7070</th>\n",
              "      <td>65569.831700</td>\n",
              "      <td>11319.42</td>\n",
              "    </tr>\n",
              "    <tr>\n",
              "      <th>7071</th>\n",
              "      <td>66806.826623</td>\n",
              "      <td>3593.47</td>\n",
              "    </tr>\n",
              "  </tbody>\n",
              "</table>\n",
              "</div>"
            ],
            "text/plain": [
              "                  mean     median\n",
              "tr_type                          \n",
              "1010     -19784.748640   -7411.52\n",
              "1030      -5320.980222   -2245.92\n",
              "1100     -44061.827262  -10188.26\n",
              "1110     -32119.330371  -11207.57\n",
              "2010    -136077.629325  -44918.32\n",
              "2370    -205418.249032  -44918.32\n",
              "7010     276391.789596  112295.79\n",
              "7030      86104.332909   13951.52\n",
              "7070      65569.831700   11319.42\n",
              "7071      66806.826623    3593.47"
            ]
          },
          "metadata": {},
          "execution_count": 29
        }
      ]
    },
    {
      "cell_type": "code",
      "metadata": {
        "colab": {
          "base_uri": "https://localhost:8080/",
          "height": 480
        },
        "id": "zgOgmD21lZeh",
        "outputId": "754e0f9a-1b28-4183-94ee-d6f808f0ba43"
      },
      "source": [
        "client_tr_types = transactions[transactions[\"customer_id\"] == biggest_total_sum_customer]\n",
        "mean_and_median_client = pd.DataFrame(client_tr_types.groupby(\"tr_type\")[\"amount\"].mean())\n",
        "mean_and_median_client.rename(columns = {\"amount\": \"mean\"}, inplace=True)\n",
        "mean_and_median_client[\"median\"] = client_tr_types.groupby(\"tr_type\")[\"amount\"].median()\n",
        "mean_and_median_client"
      ],
      "execution_count": null,
      "outputs": [
        {
          "output_type": "execute_result",
          "data": {
            "text/html": [
              "<div>\n",
              "<style scoped>\n",
              "    .dataframe tbody tr th:only-of-type {\n",
              "        vertical-align: middle;\n",
              "    }\n",
              "\n",
              "    .dataframe tbody tr th {\n",
              "        vertical-align: top;\n",
              "    }\n",
              "\n",
              "    .dataframe thead th {\n",
              "        text-align: right;\n",
              "    }\n",
              "</style>\n",
              "<table border=\"1\" class=\"dataframe\">\n",
              "  <thead>\n",
              "    <tr style=\"text-align: right;\">\n",
              "      <th></th>\n",
              "      <th>mean</th>\n",
              "      <th>median</th>\n",
              "    </tr>\n",
              "    <tr>\n",
              "      <th>tr_type</th>\n",
              "      <th></th>\n",
              "      <th></th>\n",
              "    </tr>\n",
              "  </thead>\n",
              "  <tbody>\n",
              "    <tr>\n",
              "      <th>2010</th>\n",
              "      <td>-2.941056e+06</td>\n",
              "      <td>-3368873.660</td>\n",
              "    </tr>\n",
              "    <tr>\n",
              "      <th>2330</th>\n",
              "      <td>-2.382398e+06</td>\n",
              "      <td>-2245915.770</td>\n",
              "    </tr>\n",
              "    <tr>\n",
              "      <th>2370</th>\n",
              "      <td>-2.218505e+06</td>\n",
              "      <td>-2245915.770</td>\n",
              "    </tr>\n",
              "    <tr>\n",
              "      <th>6110</th>\n",
              "      <td>1.756293e+04</td>\n",
              "      <td>10028.010</td>\n",
              "    </tr>\n",
              "    <tr>\n",
              "      <th>7020</th>\n",
              "      <td>1.465129e+04</td>\n",
              "      <td>10319.985</td>\n",
              "    </tr>\n",
              "    <tr>\n",
              "      <th>7021</th>\n",
              "      <td>2.850067e+04</td>\n",
              "      <td>28500.670</td>\n",
              "    </tr>\n",
              "    <tr>\n",
              "      <th>7030</th>\n",
              "      <td>1.406196e+04</td>\n",
              "      <td>8848.910</td>\n",
              "    </tr>\n",
              "    <tr>\n",
              "      <th>7031</th>\n",
              "      <td>1.921036e+04</td>\n",
              "      <td>12992.620</td>\n",
              "    </tr>\n",
              "    <tr>\n",
              "      <th>7034</th>\n",
              "      <td>1.430648e+04</td>\n",
              "      <td>14306.480</td>\n",
              "    </tr>\n",
              "    <tr>\n",
              "      <th>7040</th>\n",
              "      <td>2.153833e+04</td>\n",
              "      <td>14396.320</td>\n",
              "    </tr>\n",
              "    <tr>\n",
              "      <th>7070</th>\n",
              "      <td>1.384821e+04</td>\n",
              "      <td>8714.150</td>\n",
              "    </tr>\n",
              "    <tr>\n",
              "      <th>7071</th>\n",
              "      <td>1.860057e+04</td>\n",
              "      <td>12543.440</td>\n",
              "    </tr>\n",
              "    <tr>\n",
              "      <th>7074</th>\n",
              "      <td>2.281159e+04</td>\n",
              "      <td>9387.930</td>\n",
              "    </tr>\n",
              "  </tbody>\n",
              "</table>\n",
              "</div>"
            ],
            "text/plain": [
              "                 mean       median\n",
              "tr_type                           \n",
              "2010    -2.941056e+06 -3368873.660\n",
              "2330    -2.382398e+06 -2245915.770\n",
              "2370    -2.218505e+06 -2245915.770\n",
              "6110     1.756293e+04    10028.010\n",
              "7020     1.465129e+04    10319.985\n",
              "7021     2.850067e+04    28500.670\n",
              "7030     1.406196e+04     8848.910\n",
              "7031     1.921036e+04    12992.620\n",
              "7034     1.430648e+04    14306.480\n",
              "7040     2.153833e+04    14396.320\n",
              "7070     1.384821e+04     8714.150\n",
              "7071     1.860057e+04    12543.440\n",
              "7074     2.281159e+04     9387.930"
            ]
          },
          "metadata": {},
          "execution_count": 30
        }
      ]
    },
    {
      "cell_type": "markdown",
      "metadata": {
        "id": "BYXwM4l3QDBu"
      },
      "source": [
        "## Подготовка для заданий 5-8"
      ]
    },
    {
      "cell_type": "markdown",
      "metadata": {
        "id": "XWQzFeKcQHRe"
      },
      "source": [
        "*Из заданий 5-8 нужно выполнить минимум два любых*\n",
        "\n",
        "Соедините transactions с всеми остальными таблицами (tr_mcc_codes, tr_types, gender_train). Причём с gender_train необходимо смёрджиться с помощью left join, а с оставшимися датафреймами - через inner.\n",
        "После получения результата таблицы gender_train, tr_types, tr_mcc_codes можно удалить. В результате соединения датафреймов должно получиться 999584 строки."
      ]
    },
    {
      "cell_type": "code",
      "metadata": {
        "id": "sndJxjJ7QQf5",
        "colab": {
          "base_uri": "https://localhost:8080/",
          "height": 417
        },
        "outputId": "e2ca0160-9f2a-4a9f-82e4-161b34b45295"
      },
      "source": [
        "transactions = pd.merge(transactions, gender_train, how='left')\n",
        "transactions = pd.merge(transactions, tr_mcc_codes, how='inner')\n",
        "transactions = pd.merge(transactions, tr_types, how='inner')\n",
        "transactions"
      ],
      "execution_count": null,
      "outputs": [
        {
          "output_type": "execute_result",
          "data": {
            "text/html": [
              "<div>\n",
              "<style scoped>\n",
              "    .dataframe tbody tr th:only-of-type {\n",
              "        vertical-align: middle;\n",
              "    }\n",
              "\n",
              "    .dataframe tbody tr th {\n",
              "        vertical-align: top;\n",
              "    }\n",
              "\n",
              "    .dataframe thead th {\n",
              "        text-align: right;\n",
              "    }\n",
              "</style>\n",
              "<table border=\"1\" class=\"dataframe\">\n",
              "  <thead>\n",
              "    <tr style=\"text-align: right;\">\n",
              "      <th></th>\n",
              "      <th>customer_id</th>\n",
              "      <th>tr_datetime</th>\n",
              "      <th>mcc_code</th>\n",
              "      <th>tr_type</th>\n",
              "      <th>amount</th>\n",
              "      <th>term_id</th>\n",
              "      <th>gender</th>\n",
              "      <th>mcc_description</th>\n",
              "      <th>tr_description</th>\n",
              "    </tr>\n",
              "  </thead>\n",
              "  <tbody>\n",
              "    <tr>\n",
              "      <th>0</th>\n",
              "      <td>39026145</td>\n",
              "      <td>0 10:23:26</td>\n",
              "      <td>4814</td>\n",
              "      <td>1030</td>\n",
              "      <td>-2245.92</td>\n",
              "      <td>NaN</td>\n",
              "      <td>1.0</td>\n",
              "      <td>Звонки с использованием телефонов, считывающих...</td>\n",
              "      <td>Оплата услуги. Банкоматы СБ РФ</td>\n",
              "    </tr>\n",
              "    <tr>\n",
              "      <th>1</th>\n",
              "      <td>39026145</td>\n",
              "      <td>6 07:08:31</td>\n",
              "      <td>4814</td>\n",
              "      <td>1030</td>\n",
              "      <td>-5614.79</td>\n",
              "      <td>NaN</td>\n",
              "      <td>1.0</td>\n",
              "      <td>Звонки с использованием телефонов, считывающих...</td>\n",
              "      <td>Оплата услуги. Банкоматы СБ РФ</td>\n",
              "    </tr>\n",
              "    <tr>\n",
              "      <th>2</th>\n",
              "      <td>39026145</td>\n",
              "      <td>8 07:06:10</td>\n",
              "      <td>4814</td>\n",
              "      <td>1030</td>\n",
              "      <td>-1122.96</td>\n",
              "      <td>NaN</td>\n",
              "      <td>1.0</td>\n",
              "      <td>Звонки с использованием телефонов, считывающих...</td>\n",
              "      <td>Оплата услуги. Банкоматы СБ РФ</td>\n",
              "    </tr>\n",
              "    <tr>\n",
              "      <th>3</th>\n",
              "      <td>39026145</td>\n",
              "      <td>11 08:49:03</td>\n",
              "      <td>4814</td>\n",
              "      <td>1030</td>\n",
              "      <td>-2245.92</td>\n",
              "      <td>NaN</td>\n",
              "      <td>1.0</td>\n",
              "      <td>Звонки с использованием телефонов, считывающих...</td>\n",
              "      <td>Оплата услуги. Банкоматы СБ РФ</td>\n",
              "    </tr>\n",
              "    <tr>\n",
              "      <th>4</th>\n",
              "      <td>39026145</td>\n",
              "      <td>11 14:12:08</td>\n",
              "      <td>4814</td>\n",
              "      <td>1030</td>\n",
              "      <td>-2245.92</td>\n",
              "      <td>NaN</td>\n",
              "      <td>1.0</td>\n",
              "      <td>Звонки с использованием телефонов, считывающих...</td>\n",
              "      <td>Оплата услуги. Банкоматы СБ РФ</td>\n",
              "    </tr>\n",
              "    <tr>\n",
              "      <th>...</th>\n",
              "      <td>...</td>\n",
              "      <td>...</td>\n",
              "      <td>...</td>\n",
              "      <td>...</td>\n",
              "      <td>...</td>\n",
              "      <td>...</td>\n",
              "      <td>...</td>\n",
              "      <td>...</td>\n",
              "      <td>...</td>\n",
              "    </tr>\n",
              "    <tr>\n",
              "      <th>999579</th>\n",
              "      <td>36837532</td>\n",
              "      <td>18 23:38:60</td>\n",
              "      <td>3000</td>\n",
              "      <td>6000</td>\n",
              "      <td>1297824.89</td>\n",
              "      <td>NaN</td>\n",
              "      <td>NaN</td>\n",
              "      <td>Авиалинии, авиакомпании</td>\n",
              "      <td>Возврат  покупки. ТУ СБ РФ</td>\n",
              "    </tr>\n",
              "    <tr>\n",
              "      <th>999580</th>\n",
              "      <td>6808459</td>\n",
              "      <td>206 19:00:10</td>\n",
              "      <td>3000</td>\n",
              "      <td>6000</td>\n",
              "      <td>124693.24</td>\n",
              "      <td>NaN</td>\n",
              "      <td>NaN</td>\n",
              "      <td>Авиалинии, авиакомпании</td>\n",
              "      <td>Возврат  покупки. ТУ СБ РФ</td>\n",
              "    </tr>\n",
              "    <tr>\n",
              "      <th>999581</th>\n",
              "      <td>83759123</td>\n",
              "      <td>90 22:40:57</td>\n",
              "      <td>3000</td>\n",
              "      <td>6000</td>\n",
              "      <td>218976.79</td>\n",
              "      <td>NaN</td>\n",
              "      <td>NaN</td>\n",
              "      <td>Авиалинии, авиакомпании</td>\n",
              "      <td>Возврат  покупки. ТУ СБ РФ</td>\n",
              "    </tr>\n",
              "    <tr>\n",
              "      <th>999582</th>\n",
              "      <td>89619970</td>\n",
              "      <td>104 23:39:35</td>\n",
              "      <td>3000</td>\n",
              "      <td>6000</td>\n",
              "      <td>408307.49</td>\n",
              "      <td>NaN</td>\n",
              "      <td>NaN</td>\n",
              "      <td>Авиалинии, авиакомпании</td>\n",
              "      <td>Возврат  покупки. ТУ СБ РФ</td>\n",
              "    </tr>\n",
              "    <tr>\n",
              "      <th>999583</th>\n",
              "      <td>89619970</td>\n",
              "      <td>105 23:38:49</td>\n",
              "      <td>3000</td>\n",
              "      <td>6000</td>\n",
              "      <td>204153.74</td>\n",
              "      <td>NaN</td>\n",
              "      <td>NaN</td>\n",
              "      <td>Авиалинии, авиакомпании</td>\n",
              "      <td>Возврат  покупки. ТУ СБ РФ</td>\n",
              "    </tr>\n",
              "  </tbody>\n",
              "</table>\n",
              "<p>999584 rows × 9 columns</p>\n",
              "</div>"
            ],
            "text/plain": [
              "        customer_id  ...                  tr_description\n",
              "0          39026145  ...  Оплата услуги. Банкоматы СБ РФ\n",
              "1          39026145  ...  Оплата услуги. Банкоматы СБ РФ\n",
              "2          39026145  ...  Оплата услуги. Банкоматы СБ РФ\n",
              "3          39026145  ...  Оплата услуги. Банкоматы СБ РФ\n",
              "4          39026145  ...  Оплата услуги. Банкоматы СБ РФ\n",
              "...             ...  ...                             ...\n",
              "999579     36837532  ...      Возврат  покупки. ТУ СБ РФ\n",
              "999580      6808459  ...      Возврат  покупки. ТУ СБ РФ\n",
              "999581     83759123  ...      Возврат  покупки. ТУ СБ РФ\n",
              "999582     89619970  ...      Возврат  покупки. ТУ СБ РФ\n",
              "999583     89619970  ...      Возврат  покупки. ТУ СБ РФ\n",
              "\n",
              "[999584 rows x 9 columns]"
            ]
          },
          "metadata": {},
          "execution_count": 15
        }
      ]
    },
    {
      "cell_type": "markdown",
      "metadata": {
        "id": "8vrFauJ8QgmT"
      },
      "source": [
        "## Задание 5"
      ]
    },
    {
      "cell_type": "markdown",
      "metadata": {
        "id": "rOjEQ5xyQfE_"
      },
      "source": [
        "1. Определите модуль разницы между средними тратами женщин и мужчин (трата - отрицательное значение amount).\n",
        "2. Определите модуль разницы между средними поступлениями у мужчин и женщин\n",
        "\n",
        "Обратите внимание, что для вычисления модуля разности точных знаний о том, \n",
        "какой класc относится к мужчинам, а какой - к женщинам, не требуется."
      ]
    },
    {
      "cell_type": "code",
      "metadata": {
        "id": "SR7zddZdyxZc",
        "colab": {
          "base_uri": "https://localhost:8080/"
        },
        "outputId": "a91201bc-6142-431f-ec7a-68486465d0cd"
      },
      "source": [
        "transactions_under_0_gender = transactions[transactions[\"amount\"] < 0].groupby(\"gender\")[\"amount\"].mean()\n",
        "abs(transactions_under_0_gender[0] - transactions_under_0_gender[1])"
      ],
      "execution_count": null,
      "outputs": [
        {
          "output_type": "execute_result",
          "data": {
            "text/plain": [
              "32718.05492022563"
            ]
          },
          "metadata": {},
          "execution_count": 69
        }
      ]
    },
    {
      "cell_type": "code",
      "metadata": {
        "colab": {
          "base_uri": "https://localhost:8080/"
        },
        "id": "5mviCVRw0Npo",
        "outputId": "cdd95a63-90fe-4465-b753-979c21fde20f"
      },
      "source": [
        "transactions_bigger_0_gender = transactions[transactions[\"amount\"] > 0].groupby(\"gender\")[\"amount\"].mean()\n",
        "abs(transactions_bigger_0_gender[0] - transactions_bigger_0_gender[1])"
      ],
      "execution_count": null,
      "outputs": [
        {
          "output_type": "execute_result",
          "data": {
            "text/plain": [
              "63366.57104800751"
            ]
          },
          "metadata": {},
          "execution_count": 70
        }
      ]
    },
    {
      "cell_type": "markdown",
      "metadata": {
        "id": "DSHFLbepQ7G1"
      },
      "source": [
        "## Задание 6"
      ]
    },
    {
      "cell_type": "markdown",
      "metadata": {
        "id": "2EF1490bQ-17"
      },
      "source": [
        "1. По всем типам транзакций рассчитайте максимальную сумму прихода на карту (из строго положительных сумм по столбцу amount) отдельно для мужчин и женщин (назовите ее \"max_income\"). Оставьте по 10 типов транзакций для мужчин и для женщин, наименьших среди всех типов транзакций по полученным значениям \"max_income\". \n",
        "2. Выделите среди них те типы транзакций, которые встречаются одновременно и у мужчин, и у женщин"
      ]
    },
    {
      "cell_type": "code",
      "metadata": {
        "colab": {
          "base_uri": "https://localhost:8080/",
          "height": 388
        },
        "id": "n8rxmXLXnuzK",
        "outputId": "3129e8a0-49b8-4053-ea94-267d369da1e6"
      },
      "source": [
        "# 1 (gender: 0)\n",
        "transactions_bigger_0 = transactions[transactions[\"amount\"] > 0]\n",
        "max_income_for_0 = pd.DataFrame(transactions_bigger_0[transactions_bigger_0[\"gender\"] == 0.0].groupby(\"tr_type\")[\"amount\"].max())\n",
        "max_10_in_0 = max_income_for_0.sort_values(by=\"amount\").head(10)\n",
        "# max_income_for_0\n",
        "max_10_in_0\n",
        "# transactions_for_gender_0_bigger_0"
      ],
      "execution_count": null,
      "outputs": [
        {
          "output_type": "execute_result",
          "data": {
            "text/html": [
              "<div>\n",
              "<style scoped>\n",
              "    .dataframe tbody tr th:only-of-type {\n",
              "        vertical-align: middle;\n",
              "    }\n",
              "\n",
              "    .dataframe tbody tr th {\n",
              "        vertical-align: top;\n",
              "    }\n",
              "\n",
              "    .dataframe thead th {\n",
              "        text-align: right;\n",
              "    }\n",
              "</style>\n",
              "<table border=\"1\" class=\"dataframe\">\n",
              "  <thead>\n",
              "    <tr style=\"text-align: right;\">\n",
              "      <th></th>\n",
              "      <th>amount</th>\n",
              "    </tr>\n",
              "    <tr>\n",
              "      <th>tr_type</th>\n",
              "      <th></th>\n",
              "    </tr>\n",
              "  </thead>\n",
              "  <tbody>\n",
              "    <tr>\n",
              "      <th>4051</th>\n",
              "      <td>1122.96</td>\n",
              "    </tr>\n",
              "    <tr>\n",
              "      <th>4110</th>\n",
              "      <td>2245.92</td>\n",
              "    </tr>\n",
              "    <tr>\n",
              "      <th>4210</th>\n",
              "      <td>2245.92</td>\n",
              "    </tr>\n",
              "    <tr>\n",
              "      <th>2370</th>\n",
              "      <td>2335.75</td>\n",
              "    </tr>\n",
              "    <tr>\n",
              "      <th>4100</th>\n",
              "      <td>5041.86</td>\n",
              "    </tr>\n",
              "    <tr>\n",
              "      <th>7075</th>\n",
              "      <td>6737.75</td>\n",
              "    </tr>\n",
              "    <tr>\n",
              "      <th>2110</th>\n",
              "      <td>22459.16</td>\n",
              "    </tr>\n",
              "    <tr>\n",
              "      <th>1010</th>\n",
              "      <td>24839.83</td>\n",
              "    </tr>\n",
              "    <tr>\n",
              "      <th>2010</th>\n",
              "      <td>44918.32</td>\n",
              "    </tr>\n",
              "    <tr>\n",
              "      <th>2210</th>\n",
              "      <td>68315.82</td>\n",
              "    </tr>\n",
              "  </tbody>\n",
              "</table>\n",
              "</div>"
            ],
            "text/plain": [
              "           amount\n",
              "tr_type          \n",
              "4051      1122.96\n",
              "4110      2245.92\n",
              "4210      2245.92\n",
              "2370      2335.75\n",
              "4100      5041.86\n",
              "7075      6737.75\n",
              "2110     22459.16\n",
              "1010     24839.83\n",
              "2010     44918.32\n",
              "2210     68315.82"
            ]
          },
          "metadata": {},
          "execution_count": 82
        }
      ]
    },
    {
      "cell_type": "code",
      "metadata": {
        "colab": {
          "base_uri": "https://localhost:8080/",
          "height": 388
        },
        "id": "fXo3Atimsnvt",
        "outputId": "20ea9968-41e9-462b-bd66-ac5b24e259d0"
      },
      "source": [
        "# 1 (gender: 1)\n",
        "max_income_for_1 = pd.DataFrame(transactions_bigger_0[transactions_bigger_0[\"gender\"] == 1.0].groupby(\"tr_type\")[\"amount\"].max())\n",
        "max_10_in_1 = max_income_for_1.sort_values(by=\"amount\").head(10)\n",
        "max_10_in_1"
      ],
      "execution_count": null,
      "outputs": [
        {
          "output_type": "execute_result",
          "data": {
            "text/html": [
              "<div>\n",
              "<style scoped>\n",
              "    .dataframe tbody tr th:only-of-type {\n",
              "        vertical-align: middle;\n",
              "    }\n",
              "\n",
              "    .dataframe tbody tr th {\n",
              "        vertical-align: top;\n",
              "    }\n",
              "\n",
              "    .dataframe thead th {\n",
              "        text-align: right;\n",
              "    }\n",
              "</style>\n",
              "<table border=\"1\" class=\"dataframe\">\n",
              "  <thead>\n",
              "    <tr style=\"text-align: right;\">\n",
              "      <th></th>\n",
              "      <th>amount</th>\n",
              "    </tr>\n",
              "    <tr>\n",
              "      <th>tr_type</th>\n",
              "      <th></th>\n",
              "    </tr>\n",
              "  </thead>\n",
              "  <tbody>\n",
              "    <tr>\n",
              "      <th>4110</th>\n",
              "      <td>2245.92</td>\n",
              "    </tr>\n",
              "    <tr>\n",
              "      <th>2020</th>\n",
              "      <td>2245.92</td>\n",
              "    </tr>\n",
              "    <tr>\n",
              "      <th>1010</th>\n",
              "      <td>28803.87</td>\n",
              "    </tr>\n",
              "    <tr>\n",
              "      <th>8100</th>\n",
              "      <td>64682.37</td>\n",
              "    </tr>\n",
              "    <tr>\n",
              "      <th>6000</th>\n",
              "      <td>79280.83</td>\n",
              "    </tr>\n",
              "    <tr>\n",
              "      <th>7041</th>\n",
              "      <td>87590.72</td>\n",
              "    </tr>\n",
              "    <tr>\n",
              "      <th>2010</th>\n",
              "      <td>89836.63</td>\n",
              "    </tr>\n",
              "    <tr>\n",
              "      <th>2110</th>\n",
              "      <td>112295.79</td>\n",
              "    </tr>\n",
              "    <tr>\n",
              "      <th>2370</th>\n",
              "      <td>113194.15</td>\n",
              "    </tr>\n",
              "    <tr>\n",
              "      <th>7015</th>\n",
              "      <td>121279.45</td>\n",
              "    </tr>\n",
              "  </tbody>\n",
              "</table>\n",
              "</div>"
            ],
            "text/plain": [
              "            amount\n",
              "tr_type           \n",
              "4110       2245.92\n",
              "2020       2245.92\n",
              "1010      28803.87\n",
              "8100      64682.37\n",
              "6000      79280.83\n",
              "7041      87590.72\n",
              "2010      89836.63\n",
              "2110     112295.79\n",
              "2370     113194.15\n",
              "7015     121279.45"
            ]
          },
          "metadata": {},
          "execution_count": 83
        }
      ]
    },
    {
      "cell_type": "code",
      "metadata": {
        "colab": {
          "base_uri": "https://localhost:8080/"
        },
        "id": "zufAIT3Js3mE",
        "outputId": "573560fb-d7be-4a55-ea87-4441bcf8ffea"
      },
      "source": [
        "# 2\n",
        "pd.Series(max_10_in_0[max_10_in_0.index.isin(max_10_in_1.index.values)].index.values)"
      ],
      "execution_count": null,
      "outputs": [
        {
          "output_type": "execute_result",
          "data": {
            "text/plain": [
              "0    4110\n",
              "1    2370\n",
              "2    2110\n",
              "3    1010\n",
              "4    2010\n",
              "dtype: int64"
            ]
          },
          "metadata": {},
          "execution_count": 84
        }
      ]
    },
    {
      "cell_type": "markdown",
      "metadata": {
        "id": "W-LaVwRdR3UB"
      },
      "source": [
        "## Задание 7"
      ]
    },
    {
      "cell_type": "markdown",
      "metadata": {
        "id": "rhI4NOciR7e0"
      },
      "source": [
        "1. Найдите суммы затрат по каждой категории (mcc) для мужчин и для женщин. \n",
        "2. Найдите топ 10 категорий с самыми большими относительными модулями разности в тратах для разных полов (в ответе должны присутствовать описания mcc кодов)."
      ]
    },
    {
      "cell_type": "code",
      "metadata": {
        "colab": {
          "base_uri": "https://localhost:8080/",
          "height": 447
        },
        "id": "2X2o30890t3u",
        "outputId": "3b95094e-6dac-4b6d-c4d3-7f24de5e1967"
      },
      "source": [
        "# 1 (gender: 0)\n",
        "transactions_under_0 = transactions[transactions[\"amount\"] < 0]\n",
        "transactions_by_mcc_gender_0 = pd.DataFrame(transactions_under_0[transactions_under_0[\"gender\"] == 0.0].groupby(\"mcc_code\")[\"amount\"].sum())\n",
        "transactions_by_mcc_gender_0"
      ],
      "execution_count": null,
      "outputs": [
        {
          "output_type": "execute_result",
          "data": {
            "text/html": [
              "<div>\n",
              "<style scoped>\n",
              "    .dataframe tbody tr th:only-of-type {\n",
              "        vertical-align: middle;\n",
              "    }\n",
              "\n",
              "    .dataframe tbody tr th {\n",
              "        vertical-align: top;\n",
              "    }\n",
              "\n",
              "    .dataframe thead th {\n",
              "        text-align: right;\n",
              "    }\n",
              "</style>\n",
              "<table border=\"1\" class=\"dataframe\">\n",
              "  <thead>\n",
              "    <tr style=\"text-align: right;\">\n",
              "      <th></th>\n",
              "      <th>amount</th>\n",
              "    </tr>\n",
              "    <tr>\n",
              "      <th>mcc_code</th>\n",
              "      <th></th>\n",
              "    </tr>\n",
              "  </thead>\n",
              "  <tbody>\n",
              "    <tr>\n",
              "      <th>742</th>\n",
              "      <td>-386207.68</td>\n",
              "    </tr>\n",
              "    <tr>\n",
              "      <th>1711</th>\n",
              "      <td>-674897.69</td>\n",
              "    </tr>\n",
              "    <tr>\n",
              "      <th>1799</th>\n",
              "      <td>-261626.73</td>\n",
              "    </tr>\n",
              "    <tr>\n",
              "      <th>2741</th>\n",
              "      <td>-20746.42</td>\n",
              "    </tr>\n",
              "    <tr>\n",
              "      <th>3000</th>\n",
              "      <td>-74431645.27</td>\n",
              "    </tr>\n",
              "    <tr>\n",
              "      <th>...</th>\n",
              "      <td>...</td>\n",
              "    </tr>\n",
              "    <tr>\n",
              "      <th>8699</th>\n",
              "      <td>-521107.48</td>\n",
              "    </tr>\n",
              "    <tr>\n",
              "      <th>8999</th>\n",
              "      <td>-19432057.92</td>\n",
              "    </tr>\n",
              "    <tr>\n",
              "      <th>9222</th>\n",
              "      <td>-361143.24</td>\n",
              "    </tr>\n",
              "    <tr>\n",
              "      <th>9311</th>\n",
              "      <td>-406197.45</td>\n",
              "    </tr>\n",
              "    <tr>\n",
              "      <th>9399</th>\n",
              "      <td>-1481389.65</td>\n",
              "    </tr>\n",
              "  </tbody>\n",
              "</table>\n",
              "<p>174 rows × 1 columns</p>\n",
              "</div>"
            ],
            "text/plain": [
              "               amount\n",
              "mcc_code             \n",
              "742        -386207.68\n",
              "1711       -674897.69\n",
              "1799       -261626.73\n",
              "2741        -20746.42\n",
              "3000     -74431645.27\n",
              "...               ...\n",
              "8699       -521107.48\n",
              "8999     -19432057.92\n",
              "9222       -361143.24\n",
              "9311       -406197.45\n",
              "9399      -1481389.65\n",
              "\n",
              "[174 rows x 1 columns]"
            ]
          },
          "metadata": {},
          "execution_count": 69
        }
      ]
    },
    {
      "cell_type": "code",
      "metadata": {
        "colab": {
          "base_uri": "https://localhost:8080/",
          "height": 447
        },
        "id": "FlelB9So12Z1",
        "outputId": "f4d44d00-c202-4f3c-f83d-1b94d60a3030"
      },
      "source": [
        "# 1 (gender: 1)\n",
        "transactions_by_mcc_gender_1 = pd.DataFrame(transactions_under_0[transactions_under_0[\"gender\"] == 1.0].groupby(\"mcc_code\")[\"amount\"].sum())\n",
        "transactions_by_mcc_gender_1"
      ],
      "execution_count": null,
      "outputs": [
        {
          "output_type": "execute_result",
          "data": {
            "text/html": [
              "<div>\n",
              "<style scoped>\n",
              "    .dataframe tbody tr th:only-of-type {\n",
              "        vertical-align: middle;\n",
              "    }\n",
              "\n",
              "    .dataframe tbody tr th {\n",
              "        vertical-align: top;\n",
              "    }\n",
              "\n",
              "    .dataframe thead th {\n",
              "        text-align: right;\n",
              "    }\n",
              "</style>\n",
              "<table border=\"1\" class=\"dataframe\">\n",
              "  <thead>\n",
              "    <tr style=\"text-align: right;\">\n",
              "      <th></th>\n",
              "      <th>amount</th>\n",
              "    </tr>\n",
              "    <tr>\n",
              "      <th>mcc_code</th>\n",
              "      <th></th>\n",
              "    </tr>\n",
              "  </thead>\n",
              "  <tbody>\n",
              "    <tr>\n",
              "      <th>742</th>\n",
              "      <td>-132277.93</td>\n",
              "    </tr>\n",
              "    <tr>\n",
              "      <th>1711</th>\n",
              "      <td>-206264.90</td>\n",
              "    </tr>\n",
              "    <tr>\n",
              "      <th>1731</th>\n",
              "      <td>-121542.67</td>\n",
              "    </tr>\n",
              "    <tr>\n",
              "      <th>1799</th>\n",
              "      <td>-1129257.68</td>\n",
              "    </tr>\n",
              "    <tr>\n",
              "      <th>2741</th>\n",
              "      <td>-221290.08</td>\n",
              "    </tr>\n",
              "    <tr>\n",
              "      <th>...</th>\n",
              "      <td>...</td>\n",
              "    </tr>\n",
              "    <tr>\n",
              "      <th>8999</th>\n",
              "      <td>-28643346.63</td>\n",
              "    </tr>\n",
              "    <tr>\n",
              "      <th>9222</th>\n",
              "      <td>-988205.17</td>\n",
              "    </tr>\n",
              "    <tr>\n",
              "      <th>9311</th>\n",
              "      <td>-373271.22</td>\n",
              "    </tr>\n",
              "    <tr>\n",
              "      <th>9399</th>\n",
              "      <td>-1810820.67</td>\n",
              "    </tr>\n",
              "    <tr>\n",
              "      <th>9402</th>\n",
              "      <td>-4581.67</td>\n",
              "    </tr>\n",
              "  </tbody>\n",
              "</table>\n",
              "<p>175 rows × 1 columns</p>\n",
              "</div>"
            ],
            "text/plain": [
              "               amount\n",
              "mcc_code             \n",
              "742        -132277.93\n",
              "1711       -206264.90\n",
              "1731       -121542.67\n",
              "1799      -1129257.68\n",
              "2741       -221290.08\n",
              "...               ...\n",
              "8999     -28643346.63\n",
              "9222       -988205.17\n",
              "9311       -373271.22\n",
              "9399      -1810820.67\n",
              "9402         -4581.67\n",
              "\n",
              "[175 rows x 1 columns]"
            ]
          },
          "metadata": {},
          "execution_count": 70
        }
      ]
    },
    {
      "cell_type": "code",
      "metadata": {
        "colab": {
          "base_uri": "https://localhost:8080/",
          "height": 357
        },
        "id": "mM_0KhY92QMa",
        "outputId": "75b6aaa5-115c-4397-dec9-672f2b2b3259"
      },
      "source": [
        "# 2\n",
        "transactions_by_mcc_gender_0.rename(columns = {\"amount\": \"amount_gender_0\"}, inplace=True)\n",
        "transactions_by_mcc_gender_1.rename(columns = {\"amount\": \"amount_gender_1\"}, inplace=True)\n",
        "transactions_by_mcc_merged = pd.merge(transactions_by_mcc_gender_0, transactions_by_mcc_gender_1, on=\"mcc_code\")\n",
        "transactions_by_mcc_merged[\"difference_module\"] = abs(transactions_by_mcc_merged[\"amount_gender_0\"] - transactions_by_mcc_merged[\"amount_gender_1\"])\n",
        "top_10_mcc_merged = transactions_by_mcc_merged.sort_values(by=\"difference_module\", ascending=False).head(10)\n",
        "top_10_mcc_merged_with_description = pd.merge(top_10_mcc_merged, tr_mcc_codes, on=\"mcc_code\")\n",
        "top_10_mcc_merged_with_description"
      ],
      "execution_count": null,
      "outputs": [
        {
          "output_type": "execute_result",
          "data": {
            "text/html": [
              "<div>\n",
              "<style scoped>\n",
              "    .dataframe tbody tr th:only-of-type {\n",
              "        vertical-align: middle;\n",
              "    }\n",
              "\n",
              "    .dataframe tbody tr th {\n",
              "        vertical-align: top;\n",
              "    }\n",
              "\n",
              "    .dataframe thead th {\n",
              "        text-align: right;\n",
              "    }\n",
              "</style>\n",
              "<table border=\"1\" class=\"dataframe\">\n",
              "  <thead>\n",
              "    <tr style=\"text-align: right;\">\n",
              "      <th></th>\n",
              "      <th>mcc_code</th>\n",
              "      <th>amount_gender_0</th>\n",
              "      <th>amount_gender_1</th>\n",
              "      <th>difference_module</th>\n",
              "      <th>mcc_description</th>\n",
              "    </tr>\n",
              "  </thead>\n",
              "  <tbody>\n",
              "    <tr>\n",
              "      <th>0</th>\n",
              "      <td>6011</td>\n",
              "      <td>-4.958077e+09</td>\n",
              "      <td>-8.043939e+09</td>\n",
              "      <td>3.085862e+09</td>\n",
              "      <td>Финансовые институты — снятие наличности автом...</td>\n",
              "    </tr>\n",
              "    <tr>\n",
              "      <th>1</th>\n",
              "      <td>4829</td>\n",
              "      <td>-3.513864e+09</td>\n",
              "      <td>-6.013017e+09</td>\n",
              "      <td>2.499153e+09</td>\n",
              "      <td>Денежные переводы</td>\n",
              "    </tr>\n",
              "    <tr>\n",
              "      <th>2</th>\n",
              "      <td>6010</td>\n",
              "      <td>-2.612731e+08</td>\n",
              "      <td>-4.821311e+08</td>\n",
              "      <td>2.208580e+08</td>\n",
              "      <td>Финансовые институты — снятие наличности вручную</td>\n",
              "    </tr>\n",
              "    <tr>\n",
              "      <th>3</th>\n",
              "      <td>5541</td>\n",
              "      <td>-5.162489e+07</td>\n",
              "      <td>-2.070574e+08</td>\n",
              "      <td>1.554326e+08</td>\n",
              "      <td>Станции техобслуживания</td>\n",
              "    </tr>\n",
              "    <tr>\n",
              "      <th>4</th>\n",
              "      <td>5511</td>\n",
              "      <td>-5.095159e+06</td>\n",
              "      <td>-7.862393e+07</td>\n",
              "      <td>7.352877e+07</td>\n",
              "      <td>Легковой и грузовой транспорт — продажа, серви...</td>\n",
              "    </tr>\n",
              "    <tr>\n",
              "      <th>5</th>\n",
              "      <td>5812</td>\n",
              "      <td>-5.787961e+07</td>\n",
              "      <td>-1.282582e+08</td>\n",
              "      <td>7.037856e+07</td>\n",
              "      <td>Места общественного питания, рестораны</td>\n",
              "    </tr>\n",
              "    <tr>\n",
              "      <th>6</th>\n",
              "      <td>5977</td>\n",
              "      <td>-7.360784e+07</td>\n",
              "      <td>-3.119022e+07</td>\n",
              "      <td>4.241762e+07</td>\n",
              "      <td>Магазины косметики</td>\n",
              "    </tr>\n",
              "    <tr>\n",
              "      <th>7</th>\n",
              "      <td>5533</td>\n",
              "      <td>-1.278980e+07</td>\n",
              "      <td>-5.512787e+07</td>\n",
              "      <td>4.233808e+07</td>\n",
              "      <td>Автозапчасти и аксессуары</td>\n",
              "    </tr>\n",
              "    <tr>\n",
              "      <th>8</th>\n",
              "      <td>7995</td>\n",
              "      <td>-1.189100e+05</td>\n",
              "      <td>-4.091455e+07</td>\n",
              "      <td>4.079564e+07</td>\n",
              "      <td>Транзакции по азартным играм</td>\n",
              "    </tr>\n",
              "    <tr>\n",
              "      <th>9</th>\n",
              "      <td>5661</td>\n",
              "      <td>-8.183139e+07</td>\n",
              "      <td>-4.367668e+07</td>\n",
              "      <td>3.815470e+07</td>\n",
              "      <td>Обувные магазины</td>\n",
              "    </tr>\n",
              "  </tbody>\n",
              "</table>\n",
              "</div>"
            ],
            "text/plain": [
              "   mcc_code  ...                                    mcc_description\n",
              "0      6011  ...  Финансовые институты — снятие наличности автом...\n",
              "1      4829  ...                                  Денежные переводы\n",
              "2      6010  ...   Финансовые институты — снятие наличности вручную\n",
              "3      5541  ...                            Станции техобслуживания\n",
              "4      5511  ...  Легковой и грузовой транспорт — продажа, серви...\n",
              "5      5812  ...             Места общественного питания, рестораны\n",
              "6      5977  ...                                 Магазины косметики\n",
              "7      5533  ...                          Автозапчасти и аксессуары\n",
              "8      7995  ...                       Транзакции по азартным играм\n",
              "9      5661  ...                                   Обувные магазины\n",
              "\n",
              "[10 rows x 5 columns]"
            ]
          },
          "metadata": {},
          "execution_count": 71
        }
      ]
    },
    {
      "cell_type": "markdown",
      "metadata": {
        "id": "aGaPkQkVSvl8"
      },
      "source": [
        "## Задание 8"
      ]
    },
    {
      "cell_type": "markdown",
      "metadata": {
        "id": "T7Ox1qAXTHQl"
      },
      "source": [
        "1. Из поля tr_datetime выделите час tr_hour, в который произошла транзакция, как первые 2 цифры до \":\". (\\**)\n",
        "2. Посчитайте количество транзакций с amount<0 в ночное время для мужчин и женщин. Ночное время - это примерно 00-06 часов. "
      ]
    },
    {
      "cell_type": "markdown",
      "metadata": {
        "id": "62VBoJk-HjeI"
      },
      "source": [
        "# доп задания"
      ]
    },
    {
      "cell_type": "markdown",
      "metadata": {
        "id": "baAuAtVbMTeI"
      },
      "source": [
        "\n",
        "Оставьте в датафрейме только тех клиентов,  которые совершили более 100 транзакций. Удалите также 5 клиентов, у которых больше всего транзакций.\n",
        "\n",
        "Возьмите 10 категорий из задания 7. Оставьте в датафрейме только транзакции по этим категориям.\n",
        "\n",
        "Постройте для каждого пола диаграмму, на которой показано распределение их трат по этим категориям."
      ]
    },
    {
      "cell_type": "code",
      "metadata": {
        "colab": {
          "base_uri": "https://localhost:8080/",
          "height": 417
        },
        "id": "kn33CEdaHg94",
        "outputId": "f7d50084-375e-4cd5-b330-98455b11d385"
      },
      "source": [
        "transactions_more_100 = transactions.groupby('customer_id')['tr_datetime'].count().sort_values()\n",
        "transactions_more_100 = transactions_more_100.head(len(transactions_more_100) - 5)\n",
        "transactions_more_100 = transactions_more_100[transactions_more_100.values > 100]\n",
        "transactions_more_100_1 = transactions[transactions['customer_id'].isin(transactions_more_100.index)]\n",
        "transactions_more_100_1\n"
      ],
      "execution_count": null,
      "outputs": [
        {
          "output_type": "execute_result",
          "data": {
            "text/html": [
              "<div>\n",
              "<style scoped>\n",
              "    .dataframe tbody tr th:only-of-type {\n",
              "        vertical-align: middle;\n",
              "    }\n",
              "\n",
              "    .dataframe tbody tr th {\n",
              "        vertical-align: top;\n",
              "    }\n",
              "\n",
              "    .dataframe thead th {\n",
              "        text-align: right;\n",
              "    }\n",
              "</style>\n",
              "<table border=\"1\" class=\"dataframe\">\n",
              "  <thead>\n",
              "    <tr style=\"text-align: right;\">\n",
              "      <th></th>\n",
              "      <th>customer_id</th>\n",
              "      <th>tr_datetime</th>\n",
              "      <th>mcc_code</th>\n",
              "      <th>tr_type</th>\n",
              "      <th>amount</th>\n",
              "      <th>term_id</th>\n",
              "      <th>gender</th>\n",
              "      <th>mcc_description</th>\n",
              "      <th>tr_description</th>\n",
              "    </tr>\n",
              "  </thead>\n",
              "  <tbody>\n",
              "    <tr>\n",
              "      <th>0</th>\n",
              "      <td>39026145</td>\n",
              "      <td>0 10:23:26</td>\n",
              "      <td>4814</td>\n",
              "      <td>1030</td>\n",
              "      <td>-2245.92</td>\n",
              "      <td>NaN</td>\n",
              "      <td>1.0</td>\n",
              "      <td>Звонки с использованием телефонов, считывающих...</td>\n",
              "      <td>Оплата услуги. Банкоматы СБ РФ</td>\n",
              "    </tr>\n",
              "    <tr>\n",
              "      <th>1</th>\n",
              "      <td>39026145</td>\n",
              "      <td>6 07:08:31</td>\n",
              "      <td>4814</td>\n",
              "      <td>1030</td>\n",
              "      <td>-5614.79</td>\n",
              "      <td>NaN</td>\n",
              "      <td>1.0</td>\n",
              "      <td>Звонки с использованием телефонов, считывающих...</td>\n",
              "      <td>Оплата услуги. Банкоматы СБ РФ</td>\n",
              "    </tr>\n",
              "    <tr>\n",
              "      <th>2</th>\n",
              "      <td>39026145</td>\n",
              "      <td>8 07:06:10</td>\n",
              "      <td>4814</td>\n",
              "      <td>1030</td>\n",
              "      <td>-1122.96</td>\n",
              "      <td>NaN</td>\n",
              "      <td>1.0</td>\n",
              "      <td>Звонки с использованием телефонов, считывающих...</td>\n",
              "      <td>Оплата услуги. Банкоматы СБ РФ</td>\n",
              "    </tr>\n",
              "    <tr>\n",
              "      <th>3</th>\n",
              "      <td>39026145</td>\n",
              "      <td>11 08:49:03</td>\n",
              "      <td>4814</td>\n",
              "      <td>1030</td>\n",
              "      <td>-2245.92</td>\n",
              "      <td>NaN</td>\n",
              "      <td>1.0</td>\n",
              "      <td>Звонки с использованием телефонов, считывающих...</td>\n",
              "      <td>Оплата услуги. Банкоматы СБ РФ</td>\n",
              "    </tr>\n",
              "    <tr>\n",
              "      <th>4</th>\n",
              "      <td>39026145</td>\n",
              "      <td>11 14:12:08</td>\n",
              "      <td>4814</td>\n",
              "      <td>1030</td>\n",
              "      <td>-2245.92</td>\n",
              "      <td>NaN</td>\n",
              "      <td>1.0</td>\n",
              "      <td>Звонки с использованием телефонов, считывающих...</td>\n",
              "      <td>Оплата услуги. Банкоматы СБ РФ</td>\n",
              "    </tr>\n",
              "    <tr>\n",
              "      <th>...</th>\n",
              "      <td>...</td>\n",
              "      <td>...</td>\n",
              "      <td>...</td>\n",
              "      <td>...</td>\n",
              "      <td>...</td>\n",
              "      <td>...</td>\n",
              "      <td>...</td>\n",
              "      <td>...</td>\n",
              "      <td>...</td>\n",
              "    </tr>\n",
              "    <tr>\n",
              "      <th>999579</th>\n",
              "      <td>36837532</td>\n",
              "      <td>18 23:38:60</td>\n",
              "      <td>3000</td>\n",
              "      <td>6000</td>\n",
              "      <td>1297824.89</td>\n",
              "      <td>NaN</td>\n",
              "      <td>NaN</td>\n",
              "      <td>Авиалинии, авиакомпании</td>\n",
              "      <td>Возврат  покупки. ТУ СБ РФ</td>\n",
              "    </tr>\n",
              "    <tr>\n",
              "      <th>999580</th>\n",
              "      <td>6808459</td>\n",
              "      <td>206 19:00:10</td>\n",
              "      <td>3000</td>\n",
              "      <td>6000</td>\n",
              "      <td>124693.24</td>\n",
              "      <td>NaN</td>\n",
              "      <td>NaN</td>\n",
              "      <td>Авиалинии, авиакомпании</td>\n",
              "      <td>Возврат  покупки. ТУ СБ РФ</td>\n",
              "    </tr>\n",
              "    <tr>\n",
              "      <th>999581</th>\n",
              "      <td>83759123</td>\n",
              "      <td>90 22:40:57</td>\n",
              "      <td>3000</td>\n",
              "      <td>6000</td>\n",
              "      <td>218976.79</td>\n",
              "      <td>NaN</td>\n",
              "      <td>NaN</td>\n",
              "      <td>Авиалинии, авиакомпании</td>\n",
              "      <td>Возврат  покупки. ТУ СБ РФ</td>\n",
              "    </tr>\n",
              "    <tr>\n",
              "      <th>999582</th>\n",
              "      <td>89619970</td>\n",
              "      <td>104 23:39:35</td>\n",
              "      <td>3000</td>\n",
              "      <td>6000</td>\n",
              "      <td>408307.49</td>\n",
              "      <td>NaN</td>\n",
              "      <td>NaN</td>\n",
              "      <td>Авиалинии, авиакомпании</td>\n",
              "      <td>Возврат  покупки. ТУ СБ РФ</td>\n",
              "    </tr>\n",
              "    <tr>\n",
              "      <th>999583</th>\n",
              "      <td>89619970</td>\n",
              "      <td>105 23:38:49</td>\n",
              "      <td>3000</td>\n",
              "      <td>6000</td>\n",
              "      <td>204153.74</td>\n",
              "      <td>NaN</td>\n",
              "      <td>NaN</td>\n",
              "      <td>Авиалинии, авиакомпании</td>\n",
              "      <td>Возврат  покупки. ТУ СБ РФ</td>\n",
              "    </tr>\n",
              "  </tbody>\n",
              "</table>\n",
              "<p>844792 rows × 9 columns</p>\n",
              "</div>"
            ],
            "text/plain": [
              "        customer_id  ...                  tr_description\n",
              "0          39026145  ...  Оплата услуги. Банкоматы СБ РФ\n",
              "1          39026145  ...  Оплата услуги. Банкоматы СБ РФ\n",
              "2          39026145  ...  Оплата услуги. Банкоматы СБ РФ\n",
              "3          39026145  ...  Оплата услуги. Банкоматы СБ РФ\n",
              "4          39026145  ...  Оплата услуги. Банкоматы СБ РФ\n",
              "...             ...  ...                             ...\n",
              "999579     36837532  ...      Возврат  покупки. ТУ СБ РФ\n",
              "999580      6808459  ...      Возврат  покупки. ТУ СБ РФ\n",
              "999581     83759123  ...      Возврат  покупки. ТУ СБ РФ\n",
              "999582     89619970  ...      Возврат  покупки. ТУ СБ РФ\n",
              "999583     89619970  ...      Возврат  покупки. ТУ СБ РФ\n",
              "\n",
              "[844792 rows x 9 columns]"
            ]
          },
          "metadata": {},
          "execution_count": 75
        }
      ]
    },
    {
      "cell_type": "code",
      "metadata": {
        "colab": {
          "base_uri": "https://localhost:8080/",
          "height": 417
        },
        "id": "9F_JJ1LyW1lH",
        "outputId": "944a57bb-0a12-49d3-bc3d-285bd8fd0602"
      },
      "source": [
        "transactions_more_100_2 = transactions_more_100_1[transactions_more_100_1['mcc_code'].isin(top_10_mcc_merged_with_description['mcc_code'])]\n",
        "transactions_more_100_2"
      ],
      "execution_count": null,
      "outputs": [
        {
          "output_type": "execute_result",
          "data": {
            "text/html": [
              "<div>\n",
              "<style scoped>\n",
              "    .dataframe tbody tr th:only-of-type {\n",
              "        vertical-align: middle;\n",
              "    }\n",
              "\n",
              "    .dataframe tbody tr th {\n",
              "        vertical-align: top;\n",
              "    }\n",
              "\n",
              "    .dataframe thead th {\n",
              "        text-align: right;\n",
              "    }\n",
              "</style>\n",
              "<table border=\"1\" class=\"dataframe\">\n",
              "  <thead>\n",
              "    <tr style=\"text-align: right;\">\n",
              "      <th></th>\n",
              "      <th>customer_id</th>\n",
              "      <th>tr_datetime</th>\n",
              "      <th>mcc_code</th>\n",
              "      <th>tr_type</th>\n",
              "      <th>amount</th>\n",
              "      <th>term_id</th>\n",
              "      <th>gender</th>\n",
              "      <th>mcc_description</th>\n",
              "      <th>tr_description</th>\n",
              "    </tr>\n",
              "  </thead>\n",
              "  <tbody>\n",
              "    <tr>\n",
              "      <th>120373</th>\n",
              "      <td>20297899</td>\n",
              "      <td>130 00:00:00</td>\n",
              "      <td>4829</td>\n",
              "      <td>1100</td>\n",
              "      <td>-22459.16</td>\n",
              "      <td>NaN</td>\n",
              "      <td>NaN</td>\n",
              "      <td>Денежные переводы</td>\n",
              "      <td>Покупка. ТУ  Россия</td>\n",
              "    </tr>\n",
              "    <tr>\n",
              "      <th>120374</th>\n",
              "      <td>34124149</td>\n",
              "      <td>206 00:00:00</td>\n",
              "      <td>4829</td>\n",
              "      <td>1100</td>\n",
              "      <td>-229.08</td>\n",
              "      <td>NaN</td>\n",
              "      <td>NaN</td>\n",
              "      <td>Денежные переводы</td>\n",
              "      <td>Покупка. ТУ  Россия</td>\n",
              "    </tr>\n",
              "    <tr>\n",
              "      <th>120375</th>\n",
              "      <td>34124149</td>\n",
              "      <td>212 00:00:00</td>\n",
              "      <td>4829</td>\n",
              "      <td>1100</td>\n",
              "      <td>-916.33</td>\n",
              "      <td>24810017</td>\n",
              "      <td>NaN</td>\n",
              "      <td>Денежные переводы</td>\n",
              "      <td>Покупка. ТУ  Россия</td>\n",
              "    </tr>\n",
              "    <tr>\n",
              "      <th>120376</th>\n",
              "      <td>34124149</td>\n",
              "      <td>218 00:00:00</td>\n",
              "      <td>4829</td>\n",
              "      <td>1100</td>\n",
              "      <td>-114.54</td>\n",
              "      <td>24810017</td>\n",
              "      <td>NaN</td>\n",
              "      <td>Денежные переводы</td>\n",
              "      <td>Покупка. ТУ  Россия</td>\n",
              "    </tr>\n",
              "    <tr>\n",
              "      <th>120377</th>\n",
              "      <td>34124149</td>\n",
              "      <td>221 00:00:00</td>\n",
              "      <td>4829</td>\n",
              "      <td>1100</td>\n",
              "      <td>-916.33</td>\n",
              "      <td>24810017</td>\n",
              "      <td>NaN</td>\n",
              "      <td>Денежные переводы</td>\n",
              "      <td>Покупка. ТУ  Россия</td>\n",
              "    </tr>\n",
              "    <tr>\n",
              "      <th>...</th>\n",
              "      <td>...</td>\n",
              "      <td>...</td>\n",
              "      <td>...</td>\n",
              "      <td>...</td>\n",
              "      <td>...</td>\n",
              "      <td>...</td>\n",
              "      <td>...</td>\n",
              "      <td>...</td>\n",
              "      <td>...</td>\n",
              "    </tr>\n",
              "    <tr>\n",
              "      <th>998323</th>\n",
              "      <td>20297899</td>\n",
              "      <td>391 00:00:00</td>\n",
              "      <td>7995</td>\n",
              "      <td>6210</td>\n",
              "      <td>112295.79</td>\n",
              "      <td>00000000</td>\n",
              "      <td>NaN</td>\n",
              "      <td>Транзакции по азартным играм</td>\n",
              "      <td>Возврат покупки.POS Зарубеж. ТУ</td>\n",
              "    </tr>\n",
              "    <tr>\n",
              "      <th>998324</th>\n",
              "      <td>20297899</td>\n",
              "      <td>393 00:00:00</td>\n",
              "      <td>7995</td>\n",
              "      <td>6210</td>\n",
              "      <td>11229.58</td>\n",
              "      <td>00000000</td>\n",
              "      <td>NaN</td>\n",
              "      <td>Транзакции по азартным играм</td>\n",
              "      <td>Возврат покупки.POS Зарубеж. ТУ</td>\n",
              "    </tr>\n",
              "    <tr>\n",
              "      <th>998325</th>\n",
              "      <td>20297899</td>\n",
              "      <td>395 00:00:00</td>\n",
              "      <td>7995</td>\n",
              "      <td>6210</td>\n",
              "      <td>101066.21</td>\n",
              "      <td>00000000</td>\n",
              "      <td>NaN</td>\n",
              "      <td>Транзакции по азартным играм</td>\n",
              "      <td>Возврат покупки.POS Зарубеж. ТУ</td>\n",
              "    </tr>\n",
              "    <tr>\n",
              "      <th>998326</th>\n",
              "      <td>5577042</td>\n",
              "      <td>228 00:00:00</td>\n",
              "      <td>7995</td>\n",
              "      <td>6210</td>\n",
              "      <td>8759.07</td>\n",
              "      <td>00000000</td>\n",
              "      <td>NaN</td>\n",
              "      <td>Транзакции по азартным играм</td>\n",
              "      <td>Возврат покупки.POS Зарубеж. ТУ</td>\n",
              "    </tr>\n",
              "    <tr>\n",
              "      <th>998327</th>\n",
              "      <td>24436367</td>\n",
              "      <td>86 00:00:00</td>\n",
              "      <td>7995</td>\n",
              "      <td>6210</td>\n",
              "      <td>63829.82</td>\n",
              "      <td>NaN</td>\n",
              "      <td>NaN</td>\n",
              "      <td>Транзакции по азартным играм</td>\n",
              "      <td>Возврат покупки.POS Зарубеж. ТУ</td>\n",
              "    </tr>\n",
              "  </tbody>\n",
              "</table>\n",
              "<p>379160 rows × 9 columns</p>\n",
              "</div>"
            ],
            "text/plain": [
              "        customer_id  ...                   tr_description\n",
              "120373     20297899  ...              Покупка. ТУ  Россия\n",
              "120374     34124149  ...              Покупка. ТУ  Россия\n",
              "120375     34124149  ...              Покупка. ТУ  Россия\n",
              "120376     34124149  ...              Покупка. ТУ  Россия\n",
              "120377     34124149  ...              Покупка. ТУ  Россия\n",
              "...             ...  ...                              ...\n",
              "998323     20297899  ...  Возврат покупки.POS Зарубеж. ТУ\n",
              "998324     20297899  ...  Возврат покупки.POS Зарубеж. ТУ\n",
              "998325     20297899  ...  Возврат покупки.POS Зарубеж. ТУ\n",
              "998326      5577042  ...  Возврат покупки.POS Зарубеж. ТУ\n",
              "998327     24436367  ...  Возврат покупки.POS Зарубеж. ТУ\n",
              "\n",
              "[379160 rows x 9 columns]"
            ]
          },
          "metadata": {},
          "execution_count": 76
        }
      ]
    },
    {
      "cell_type": "code",
      "metadata": {
        "id": "M_uYgf1obHrz"
      },
      "source": [
        "from matplotlib import pyplot as plt\n",
        "plt.style.use('ggplot')\n",
        "%matplotlib inline"
      ],
      "execution_count": null,
      "outputs": []
    },
    {
      "cell_type": "code",
      "metadata": {
        "colab": {
          "base_uri": "https://localhost:8080/"
        },
        "id": "Q6iU5zjbbJn6",
        "outputId": "2ea4c8c0-5918-4810-e25b-90e45879d9c7"
      },
      "source": [
        "transactions_100_10_gender_0 = transactions_more_100_2[transactions_more_100_2['gender'] == 0.0]\n",
        "mcc_code_stats_gender_0 = transactions_100_10_gender_0.groupby('mcc_code')['amount'].sum()\n",
        "mcc_code_stats_gender_0"
      ],
      "execution_count": null,
      "outputs": [
        {
          "output_type": "execute_result",
          "data": {
            "text/plain": [
              "mcc_code\n",
              "4829   -3.386171e+09\n",
              "5511   -5.095159e+06\n",
              "5533   -1.266140e+07\n",
              "5541   -5.128537e+07\n",
              "5661   -7.908077e+07\n",
              "5812   -5.752176e+07\n",
              "5977   -7.290346e+07\n",
              "6010    3.268665e+09\n",
              "6011   -2.341940e+09\n",
              "7995   -1.155187e+05\n",
              "Name: amount, dtype: float64"
            ]
          },
          "metadata": {},
          "execution_count": 98
        }
      ]
    },
    {
      "cell_type": "code",
      "metadata": {
        "colab": {
          "base_uri": "https://localhost:8080/",
          "height": 1000
        },
        "id": "AhcyXZSpXACl",
        "outputId": "eaf34394-1c0f-458f-a2d8-3cc3c5dc8eaf"
      },
      "source": [
        "plt.figure(figsize=(20, 20))\n",
        "plt.bar([str(item) for item in mcc_code_stats_gender_0.index], mcc_code_stats_gender_0.values)"
      ],
      "execution_count": null,
      "outputs": [
        {
          "output_type": "execute_result",
          "data": {
            "text/plain": [
              "<BarContainer object of 10 artists>"
            ]
          },
          "metadata": {},
          "execution_count": 99
        },
        {
          "output_type": "display_data",
          "data": {
            "image/png": "[encoded data removed]",
            "text/plain": [
              "<Figure size 1440x1440 with 1 Axes>"
            ]
          },
          "metadata": {
            "needs_background": "light"
          }
        }
      ]
    },
    {
      "cell_type": "code",
      "metadata": {
        "colab": {
          "base_uri": "https://localhost:8080/"
        },
        "id": "jtkLq6eMbMmg",
        "outputId": "83897850-5ed7-43c1-9e99-3f828922b1c1"
      },
      "source": [
        "transactions_100_10_gender_1 = transactions_more_100_2[transactions_more_100_2['gender'] == 1.0]\n",
        "mcc_code_stats_gender_1 = transactions_100_10_gender_1.groupby('mcc_code')['amount'].sum()\n",
        "mcc_code_stats_gender_1"
      ],
      "execution_count": null,
      "outputs": [
        {
          "output_type": "execute_result",
          "data": {
            "text/plain": [
              "mcc_code\n",
              "4829   -5.549027e+09\n",
              "5511   -7.779687e+07\n",
              "5533   -5.423841e+07\n",
              "5541   -2.042136e+08\n",
              "5661   -4.248028e+07\n",
              "5812   -1.277541e+08\n",
              "5977   -3.056935e+07\n",
              "6010    4.671033e+09\n",
              "6011   -3.373760e+09\n",
              "7995   -4.012547e+07\n",
              "Name: amount, dtype: float64"
            ]
          },
          "metadata": {},
          "execution_count": 100
        }
      ]
    },
    {
      "cell_type": "code",
      "metadata": {
        "colab": {
          "base_uri": "https://localhost:8080/",
          "height": 1000
        },
        "id": "cs_9qDMBXkEK",
        "outputId": "b422ded3-e997-4aa8-b805-a7bdbfb21496"
      },
      "source": [
        "plt.figure(figsize=(20, 20))\n",
        "plt.bar([str(item) for item in mcc_code_stats_gender_1.index], mcc_code_stats_gender_1.values)"
      ],
      "execution_count": null,
      "outputs": [
        {
          "output_type": "execute_result",
          "data": {
            "text/plain": [
              "<BarContainer object of 10 artists>"
            ]
          },
          "metadata": {},
          "execution_count": 101
        },
        {
          "output_type": "display_data",
          "data": {
            "image/png": "[encoded data removed]",
            "text/plain": [
              "<Figure size 1440x1440 with 1 Axes>"
            ]
          },
          "metadata": {
            "needs_background": "light"
          }
        }
      ]
    }
  ]
}